{
 "cells": [
  {
   "cell_type": "code",
   "execution_count": 1,
   "metadata": {},
   "outputs": [],
   "source": [
    "%load_ext autoreload\n",
    "%autoreload 2"
   ]
  },
  {
   "cell_type": "code",
   "execution_count": 6,
   "metadata": {},
   "outputs": [],
   "source": [
    "from synthetic_data_benchmark.synthesizer.tgan_synthesizer import *\n",
    "from synthetic_data_benchmark.synthesizer.tablegan_synthesizer import *\n",
    "\n",
    "import pandas as pd\n",
    "import numpy as np\n",
    "import json\n",
    "from tqdm.auto import tqdm\n",
    "\n",
    "import configparser\n",
    "config = configparser.ConfigParser()\n",
    "config.read('config.ini')\n",
    "\n",
    "output = 'samples/test'\n",
    "dataset = 'berka'\n",
    "working_dir = \"{}/ckpt_{}\".format(output, dataset)\n",
    "\n",
    "# data = pd.read_csv('../data/berka/berka.csv', sep=';')[:1000000]\n",
    "data = pd.read_csv('census_df.csv')\n",
    "\n",
    "# import pickle\n",
    "# subs = pickle.load(open('../data/berka/subs.pkl', 'rb'))\n",
    "\n",
    "# meta = [\n",
    "#     {\n",
    "#     'name': 'account_id',\n",
    "#     'type': 'continuous',\n",
    "#     'min': data.account_id.min(),\n",
    "#     'max': data.account_id.max()\n",
    "#     },\n",
    "# #     {\n",
    "# #     'name': 'account_id',\n",
    "# #     'type': 'categorical',\n",
    "# #     'size': len(data.account_id.unique().tolist()),\n",
    "# #     'i2s': subs['account_id']['label'].values.tolist()\n",
    "# #     },\n",
    "#     {\n",
    "#     'name': 'trans_amount',\n",
    "#     'type': 'continuous',\n",
    "#     'min': data.trans_amount.min(),\n",
    "#     'max': data.trans_amount.max()   \n",
    "#     },\n",
    "#     {\n",
    "#     'name': 'balance_after_trans',\n",
    "#     'type': 'continuous',\n",
    "#     'min': data.balance_after_trans.min(),\n",
    "#     'max': data.balance_after_trans.max()    \n",
    "#     },\n",
    "#     {\n",
    "#     'name': 'trans_type',\n",
    "#     'type': 'categorical',\n",
    "#     'size': 3,\n",
    "#     'i2s': ['CREDIT', 'WITHDRAWAL', 'UNKNOWN']    \n",
    "#     },\n",
    "#     {\n",
    "#     'name': 'trans_operation',\n",
    "#     'type': 'categorical',\n",
    "#     'size': 6,\n",
    "#     'i2s': subs['trans_operation']['label'].values.tolist()    \n",
    "#     },\n",
    "# #     {\n",
    "# #     'name': 'trans_date',\n",
    "# #     'type': 'ordinal',\n",
    "# #     'size': len(data.trans_date.unique().tolist()),\n",
    "# #     'i2s': list(range(data.trans_date.max()))    \n",
    "# #     },\n",
    "#     {\n",
    "#     'name': 'trans_date',\n",
    "#     'type': 'continuous',\n",
    "#     'size': data.trans_date.min(),\n",
    "#     'i2s': data.trans_date.max()    \n",
    "#     },\n",
    "# ]\n",
    "\n",
    "meta = json.load(open('data/real/census.json', 'r'))\n",
    "\n",
    "synthesizer = TableganSynthesizer(store_epoch=[100])\n",
    "synthesizer.init(meta, working_dir)\n"
   ]
  },
  {
   "cell_type": "code",
   "execution_count": 7,
   "metadata": {},
   "outputs": [
    {
     "name": "stdout",
     "output_type": "stream",
     "text": [
      "epoch 1 step 50 tensor(0.3513, device='cuda:0', grad_fn=<SubBackward0>) tensor(2.1782, device='cuda:0', grad_fn=<NegBackward>) (tensor(0.2257, device='cuda:0', grad_fn=<BinaryCrossEntropyWithLogitsBackward>), tensor(0.3922, device='cuda:0', grad_fn=<BinaryCrossEntropyWithLogitsBackward>))\n",
      "epoch 1 step 100 tensor(0.1905, device='cuda:0', grad_fn=<SubBackward0>) tensor(2.8613, device='cuda:0', grad_fn=<NegBackward>) (tensor(0.1962, device='cuda:0', grad_fn=<BinaryCrossEntropyWithLogitsBackward>), tensor(0.2742, device='cuda:0', grad_fn=<BinaryCrossEntropyWithLogitsBackward>))\n",
      "epoch 1 step 150 tensor(0.2749, device='cuda:0', grad_fn=<SubBackward0>) tensor(2.9793, device='cuda:0', grad_fn=<NegBackward>) (tensor(0.1477, device='cuda:0', grad_fn=<BinaryCrossEntropyWithLogitsBackward>), tensor(0.2604, device='cuda:0', grad_fn=<BinaryCrossEntropyWithLogitsBackward>))\n",
      "epoch 1 step 200 tensor(0.4228, device='cuda:0', grad_fn=<SubBackward0>) tensor(1.8644, device='cuda:0', grad_fn=<NegBackward>) (tensor(0.1363, device='cuda:0', grad_fn=<BinaryCrossEntropyWithLogitsBackward>), tensor(0.2465, device='cuda:0', grad_fn=<BinaryCrossEntropyWithLogitsBackward>))\n",
      "epoch 1 step 250 tensor(0.4251, device='cuda:0', grad_fn=<SubBackward0>) tensor(1.4621, device='cuda:0', grad_fn=<NegBackward>) (tensor(0.1452, device='cuda:0', grad_fn=<BinaryCrossEntropyWithLogitsBackward>), tensor(0.2336, device='cuda:0', grad_fn=<BinaryCrossEntropyWithLogitsBackward>))\n",
      "epoch 1 step 300 tensor(0.5572, device='cuda:0', grad_fn=<SubBackward0>) tensor(2.6574, device='cuda:0', grad_fn=<NegBackward>) (tensor(0.1512, device='cuda:0', grad_fn=<BinaryCrossEntropyWithLogitsBackward>), tensor(0.2065, device='cuda:0', grad_fn=<BinaryCrossEntropyWithLogitsBackward>))\n",
      "epoch 1 step 350 tensor(0.4139, device='cuda:0', grad_fn=<SubBackward0>) tensor(1.9110, device='cuda:0', grad_fn=<NegBackward>) (tensor(0.1378, device='cuda:0', grad_fn=<BinaryCrossEntropyWithLogitsBackward>), tensor(0.2121, device='cuda:0', grad_fn=<BinaryCrossEntropyWithLogitsBackward>))\n",
      "epoch 2 step 50 tensor(0.4135, device='cuda:0', grad_fn=<SubBackward0>) tensor(1.8919, device='cuda:0', grad_fn=<NegBackward>) (tensor(0.1537, device='cuda:0', grad_fn=<BinaryCrossEntropyWithLogitsBackward>), tensor(0.2028, device='cuda:0', grad_fn=<BinaryCrossEntropyWithLogitsBackward>))\n",
      "epoch 2 step 100 tensor(0.3353, device='cuda:0', grad_fn=<SubBackward0>) tensor(2.5119, device='cuda:0', grad_fn=<NegBackward>) (tensor(0.1841, device='cuda:0', grad_fn=<BinaryCrossEntropyWithLogitsBackward>), tensor(0.2032, device='cuda:0', grad_fn=<BinaryCrossEntropyWithLogitsBackward>))\n",
      "epoch 2 step 150 tensor(0.3551, device='cuda:0', grad_fn=<SubBackward0>) tensor(2.6433, device='cuda:0', grad_fn=<NegBackward>) (tensor(0.1654, device='cuda:0', grad_fn=<BinaryCrossEntropyWithLogitsBackward>), tensor(0.1900, device='cuda:0', grad_fn=<BinaryCrossEntropyWithLogitsBackward>))\n",
      "epoch 2 step 200 tensor(0.4943, device='cuda:0', grad_fn=<SubBackward0>) tensor(1.1196, device='cuda:0', grad_fn=<NegBackward>) (tensor(0.1340, device='cuda:0', grad_fn=<BinaryCrossEntropyWithLogitsBackward>), tensor(0.1815, device='cuda:0', grad_fn=<BinaryCrossEntropyWithLogitsBackward>))\n",
      "epoch 2 step 250 tensor(0.4482, device='cuda:0', grad_fn=<SubBackward0>) tensor(2.1228, device='cuda:0', grad_fn=<NegBackward>) (tensor(0.1373, device='cuda:0', grad_fn=<BinaryCrossEntropyWithLogitsBackward>), tensor(0.2036, device='cuda:0', grad_fn=<BinaryCrossEntropyWithLogitsBackward>))\n",
      "epoch 2 step 300 tensor(0.4231, device='cuda:0', grad_fn=<SubBackward0>) tensor(2.5016, device='cuda:0', grad_fn=<NegBackward>) (tensor(0.1406, device='cuda:0', grad_fn=<BinaryCrossEntropyWithLogitsBackward>), tensor(0.1979, device='cuda:0', grad_fn=<BinaryCrossEntropyWithLogitsBackward>))\n",
      "epoch 2 step 350 tensor(0.4258, device='cuda:0', grad_fn=<SubBackward0>) tensor(1.2498, device='cuda:0', grad_fn=<NegBackward>) (tensor(0.1382, device='cuda:0', grad_fn=<BinaryCrossEntropyWithLogitsBackward>), tensor(0.1767, device='cuda:0', grad_fn=<BinaryCrossEntropyWithLogitsBackward>))\n",
      "epoch 3 step 50 tensor(0.4206, device='cuda:0', grad_fn=<SubBackward0>) tensor(2.1131, device='cuda:0', grad_fn=<NegBackward>) (tensor(0.1369, device='cuda:0', grad_fn=<BinaryCrossEntropyWithLogitsBackward>), tensor(0.1744, device='cuda:0', grad_fn=<BinaryCrossEntropyWithLogitsBackward>))\n",
      "epoch 3 step 100 tensor(0.3995, device='cuda:0', grad_fn=<SubBackward0>) tensor(3.2254, device='cuda:0', grad_fn=<NegBackward>) (tensor(0.1624, device='cuda:0', grad_fn=<BinaryCrossEntropyWithLogitsBackward>), tensor(0.1485, device='cuda:0', grad_fn=<BinaryCrossEntropyWithLogitsBackward>))\n",
      "epoch 3 step 150 tensor(0.4368, device='cuda:0', grad_fn=<SubBackward0>) tensor(1.5467, device='cuda:0', grad_fn=<NegBackward>) (tensor(0.1417, device='cuda:0', grad_fn=<BinaryCrossEntropyWithLogitsBackward>), tensor(0.1578, device='cuda:0', grad_fn=<BinaryCrossEntropyWithLogitsBackward>))\n",
      "epoch 3 step 200 tensor(0.4569, device='cuda:0', grad_fn=<SubBackward0>) tensor(3.0498, device='cuda:0', grad_fn=<NegBackward>) (tensor(0.1611, device='cuda:0', grad_fn=<BinaryCrossEntropyWithLogitsBackward>), tensor(0.1325, device='cuda:0', grad_fn=<BinaryCrossEntropyWithLogitsBackward>))\n",
      "epoch 3 step 250 tensor(0.3191, device='cuda:0', grad_fn=<SubBackward0>) tensor(2.2242, device='cuda:0', grad_fn=<NegBackward>) (tensor(0.1376, device='cuda:0', grad_fn=<BinaryCrossEntropyWithLogitsBackward>), tensor(0.1425, device='cuda:0', grad_fn=<BinaryCrossEntropyWithLogitsBackward>))\n",
      "epoch 3 step 300 tensor(0.5352, device='cuda:0', grad_fn=<SubBackward0>) tensor(3.8434, device='cuda:0', grad_fn=<NegBackward>) (tensor(0.1690, device='cuda:0', grad_fn=<BinaryCrossEntropyWithLogitsBackward>), tensor(0.1610, device='cuda:0', grad_fn=<BinaryCrossEntropyWithLogitsBackward>))\n",
      "epoch 3 step 350 tensor(0.3608, device='cuda:0', grad_fn=<SubBackward0>) tensor(3.3140, device='cuda:0', grad_fn=<NegBackward>) (tensor(0.1370, device='cuda:0', grad_fn=<BinaryCrossEntropyWithLogitsBackward>), tensor(0.1199, device='cuda:0', grad_fn=<BinaryCrossEntropyWithLogitsBackward>))\n",
      "epoch 4 step 50 tensor(0.3403, device='cuda:0', grad_fn=<SubBackward0>) tensor(1.8573, device='cuda:0', grad_fn=<NegBackward>) (tensor(0.0996, device='cuda:0', grad_fn=<BinaryCrossEntropyWithLogitsBackward>), tensor(0.1472, device='cuda:0', grad_fn=<BinaryCrossEntropyWithLogitsBackward>))\n",
      "epoch 4 step 100 tensor(0.8193, device='cuda:0', grad_fn=<SubBackward0>) tensor(2.7494, device='cuda:0', grad_fn=<NegBackward>) (tensor(0.1189, device='cuda:0', grad_fn=<BinaryCrossEntropyWithLogitsBackward>), tensor(0.1405, device='cuda:0', grad_fn=<BinaryCrossEntropyWithLogitsBackward>))\n",
      "epoch 4 step 150 tensor(0.6038, device='cuda:0', grad_fn=<SubBackward0>) tensor(0.4246, device='cuda:0', grad_fn=<NegBackward>) (tensor(0.1337, device='cuda:0', grad_fn=<BinaryCrossEntropyWithLogitsBackward>), tensor(0.1179, device='cuda:0', grad_fn=<BinaryCrossEntropyWithLogitsBackward>))\n",
      "epoch 4 step 200 tensor(0.4226, device='cuda:0', grad_fn=<SubBackward0>) tensor(2.2353, device='cuda:0', grad_fn=<NegBackward>) (tensor(0.1184, device='cuda:0', grad_fn=<BinaryCrossEntropyWithLogitsBackward>), tensor(0.0995, device='cuda:0', grad_fn=<BinaryCrossEntropyWithLogitsBackward>))\n",
      "epoch 4 step 250 tensor(1.2996, device='cuda:0', grad_fn=<SubBackward0>) tensor(2.7562, device='cuda:0', grad_fn=<NegBackward>) (tensor(0.1552, device='cuda:0', grad_fn=<BinaryCrossEntropyWithLogitsBackward>), tensor(0.1036, device='cuda:0', grad_fn=<BinaryCrossEntropyWithLogitsBackward>))\n",
      "epoch 4 step 300 tensor(0.3531, device='cuda:0', grad_fn=<SubBackward0>) tensor(2.2017, device='cuda:0', grad_fn=<NegBackward>) (tensor(0.1318, device='cuda:0', grad_fn=<BinaryCrossEntropyWithLogitsBackward>), tensor(0.1177, device='cuda:0', grad_fn=<BinaryCrossEntropyWithLogitsBackward>))\n",
      "epoch 4 step 350 tensor(0.3237, device='cuda:0', grad_fn=<SubBackward0>) tensor(2.5952, device='cuda:0', grad_fn=<NegBackward>) (tensor(0.1416, device='cuda:0', grad_fn=<BinaryCrossEntropyWithLogitsBackward>), tensor(0.1137, device='cuda:0', grad_fn=<BinaryCrossEntropyWithLogitsBackward>))\n",
      "epoch 5 step 50 tensor(0.4125, device='cuda:0', grad_fn=<SubBackward0>) tensor(2.7420, device='cuda:0', grad_fn=<NegBackward>) (tensor(0.1053, device='cuda:0', grad_fn=<BinaryCrossEntropyWithLogitsBackward>), tensor(0.1205, device='cuda:0', grad_fn=<BinaryCrossEntropyWithLogitsBackward>))\n",
      "epoch 5 step 100 tensor(0.3724, device='cuda:0', grad_fn=<SubBackward0>) tensor(2.2166, device='cuda:0', grad_fn=<NegBackward>) (tensor(0.1142, device='cuda:0', grad_fn=<BinaryCrossEntropyWithLogitsBackward>), tensor(0.1053, device='cuda:0', grad_fn=<BinaryCrossEntropyWithLogitsBackward>))\n",
      "epoch 5 step 150 tensor(0.3715, device='cuda:0', grad_fn=<SubBackward0>) tensor(2.0442, device='cuda:0', grad_fn=<NegBackward>) (tensor(0.1509, device='cuda:0', grad_fn=<BinaryCrossEntropyWithLogitsBackward>), tensor(0.0972, device='cuda:0', grad_fn=<BinaryCrossEntropyWithLogitsBackward>))\n",
      "epoch 5 step 200 tensor(0.5180, device='cuda:0', grad_fn=<SubBackward0>) tensor(1.5754, device='cuda:0', grad_fn=<NegBackward>) (tensor(0.1454, device='cuda:0', grad_fn=<BinaryCrossEntropyWithLogitsBackward>), tensor(0.1140, device='cuda:0', grad_fn=<BinaryCrossEntropyWithLogitsBackward>))\n",
      "epoch 5 step 250 tensor(0.3373, device='cuda:0', grad_fn=<SubBackward0>) tensor(3.7260, device='cuda:0', grad_fn=<NegBackward>) (tensor(0.1468, device='cuda:0', grad_fn=<BinaryCrossEntropyWithLogitsBackward>), tensor(0.0949, device='cuda:0', grad_fn=<BinaryCrossEntropyWithLogitsBackward>))\n",
      "epoch 5 step 300 tensor(0.3993, device='cuda:0', grad_fn=<SubBackward0>) tensor(3.3272, device='cuda:0', grad_fn=<NegBackward>) (tensor(0.1345, device='cuda:0', grad_fn=<BinaryCrossEntropyWithLogitsBackward>), tensor(0.1088, device='cuda:0', grad_fn=<BinaryCrossEntropyWithLogitsBackward>))\n",
      "epoch 5 step 350 tensor(0.3257, device='cuda:0', grad_fn=<SubBackward0>) tensor(2.8812, device='cuda:0', grad_fn=<NegBackward>) (tensor(0.1417, device='cuda:0', grad_fn=<BinaryCrossEntropyWithLogitsBackward>), tensor(0.1041, device='cuda:0', grad_fn=<BinaryCrossEntropyWithLogitsBackward>))\n",
      "epoch 6 step 50 tensor(0.4247, device='cuda:0', grad_fn=<SubBackward0>) tensor(1.5770, device='cuda:0', grad_fn=<NegBackward>) (tensor(0.1555, device='cuda:0', grad_fn=<BinaryCrossEntropyWithLogitsBackward>), tensor(0.1300, device='cuda:0', grad_fn=<BinaryCrossEntropyWithLogitsBackward>))\n",
      "epoch 6 step 100 tensor(0.3278, device='cuda:0', grad_fn=<SubBackward0>) tensor(2.9355, device='cuda:0', grad_fn=<NegBackward>) (tensor(0.1504, device='cuda:0', grad_fn=<BinaryCrossEntropyWithLogitsBackward>), tensor(0.1211, device='cuda:0', grad_fn=<BinaryCrossEntropyWithLogitsBackward>))\n",
      "epoch 6 step 150 tensor(0.4012, device='cuda:0', grad_fn=<SubBackward0>) tensor(3.5398, device='cuda:0', grad_fn=<NegBackward>) (tensor(0.1297, device='cuda:0', grad_fn=<BinaryCrossEntropyWithLogitsBackward>), tensor(0.1197, device='cuda:0', grad_fn=<BinaryCrossEntropyWithLogitsBackward>))\n",
      "epoch 6 step 200 tensor(0.3286, device='cuda:0', grad_fn=<SubBackward0>) tensor(2.2094, device='cuda:0', grad_fn=<NegBackward>) (tensor(0.1438, device='cuda:0', grad_fn=<BinaryCrossEntropyWithLogitsBackward>), tensor(0.1168, device='cuda:0', grad_fn=<BinaryCrossEntropyWithLogitsBackward>))\n",
      "epoch 6 step 250 tensor(0.7548, device='cuda:0', grad_fn=<SubBackward0>) tensor(4.7562, device='cuda:0', grad_fn=<NegBackward>) (tensor(0.1402, device='cuda:0', grad_fn=<BinaryCrossEntropyWithLogitsBackward>), tensor(0.1068, device='cuda:0', grad_fn=<BinaryCrossEntropyWithLogitsBackward>))\n",
      "epoch 6 step 300 tensor(0.4340, device='cuda:0', grad_fn=<SubBackward0>) tensor(3.9536, device='cuda:0', grad_fn=<NegBackward>) (tensor(0.1127, device='cuda:0', grad_fn=<BinaryCrossEntropyWithLogitsBackward>), tensor(0.0994, device='cuda:0', grad_fn=<BinaryCrossEntropyWithLogitsBackward>))\n",
      "epoch 6 step 350 tensor(0.3594, device='cuda:0', grad_fn=<SubBackward0>) tensor(3.3123, device='cuda:0', grad_fn=<NegBackward>) (tensor(0.1361, device='cuda:0', grad_fn=<BinaryCrossEntropyWithLogitsBackward>), tensor(0.1146, device='cuda:0', grad_fn=<BinaryCrossEntropyWithLogitsBackward>))\n",
      "epoch 7 step 50 tensor(0.2592, device='cuda:0', grad_fn=<SubBackward0>) tensor(2.8515, device='cuda:0', grad_fn=<NegBackward>) (tensor(0.1222, device='cuda:0', grad_fn=<BinaryCrossEntropyWithLogitsBackward>), tensor(0.1193, device='cuda:0', grad_fn=<BinaryCrossEntropyWithLogitsBackward>))\n",
      "epoch 7 step 100 tensor(0.2959, device='cuda:0', grad_fn=<SubBackward0>) tensor(2.2999, device='cuda:0', grad_fn=<NegBackward>) (tensor(0.1215, device='cuda:0', grad_fn=<BinaryCrossEntropyWithLogitsBackward>), tensor(0.1094, device='cuda:0', grad_fn=<BinaryCrossEntropyWithLogitsBackward>))\n",
      "epoch 7 step 150 tensor(0.5738, device='cuda:0', grad_fn=<SubBackward0>) tensor(1.0775, device='cuda:0', grad_fn=<NegBackward>) (tensor(0.1436, device='cuda:0', grad_fn=<BinaryCrossEntropyWithLogitsBackward>), tensor(0.1043, device='cuda:0', grad_fn=<BinaryCrossEntropyWithLogitsBackward>))\n",
      "epoch 7 step 200 tensor(0.3358, device='cuda:0', grad_fn=<SubBackward0>) tensor(2.1054, device='cuda:0', grad_fn=<NegBackward>) (tensor(0.1352, device='cuda:0', grad_fn=<BinaryCrossEntropyWithLogitsBackward>), tensor(0.0877, device='cuda:0', grad_fn=<BinaryCrossEntropyWithLogitsBackward>))\n",
      "epoch 7 step 250 tensor(0.5865, device='cuda:0', grad_fn=<SubBackward0>) tensor(1.6836, device='cuda:0', grad_fn=<NegBackward>) (tensor(0.1307, device='cuda:0', grad_fn=<BinaryCrossEntropyWithLogitsBackward>), tensor(0.1266, device='cuda:0', grad_fn=<BinaryCrossEntropyWithLogitsBackward>))\n",
      "epoch 7 step 300 tensor(0.9482, device='cuda:0', grad_fn=<SubBackward0>) tensor(0.8736, device='cuda:0', grad_fn=<NegBackward>) (tensor(0.1290, device='cuda:0', grad_fn=<BinaryCrossEntropyWithLogitsBackward>), tensor(0.1240, device='cuda:0', grad_fn=<BinaryCrossEntropyWithLogitsBackward>))\n",
      "epoch 7 step 350 tensor(0.7774, device='cuda:0', grad_fn=<SubBackward0>) tensor(0.9766, device='cuda:0', grad_fn=<NegBackward>) (tensor(0.1395, device='cuda:0', grad_fn=<BinaryCrossEntropyWithLogitsBackward>), tensor(0.1008, device='cuda:0', grad_fn=<BinaryCrossEntropyWithLogitsBackward>))\n",
      "epoch 8 step 50 tensor(0.3089, device='cuda:0', grad_fn=<SubBackward0>) tensor(2.0490, device='cuda:0', grad_fn=<NegBackward>) (tensor(0.1113, device='cuda:0', grad_fn=<BinaryCrossEntropyWithLogitsBackward>), tensor(0.1312, device='cuda:0', grad_fn=<BinaryCrossEntropyWithLogitsBackward>))\n",
      "epoch 8 step 100 tensor(0.4537, device='cuda:0', grad_fn=<SubBackward0>) tensor(4.0220, device='cuda:0', grad_fn=<NegBackward>) (tensor(0.1389, device='cuda:0', grad_fn=<BinaryCrossEntropyWithLogitsBackward>), tensor(0.0945, device='cuda:0', grad_fn=<BinaryCrossEntropyWithLogitsBackward>))\n",
      "epoch 8 step 150 tensor(0.2845, device='cuda:0', grad_fn=<SubBackward0>) tensor(2.7004, device='cuda:0', grad_fn=<NegBackward>) (tensor(0.1099, device='cuda:0', grad_fn=<BinaryCrossEntropyWithLogitsBackward>), tensor(0.1171, device='cuda:0', grad_fn=<BinaryCrossEntropyWithLogitsBackward>))\n",
      "epoch 8 step 200 tensor(0.3403, device='cuda:0', grad_fn=<SubBackward0>) tensor(3.1150, device='cuda:0', grad_fn=<NegBackward>) (tensor(0.1158, device='cuda:0', grad_fn=<BinaryCrossEntropyWithLogitsBackward>), tensor(0.1062, device='cuda:0', grad_fn=<BinaryCrossEntropyWithLogitsBackward>))\n",
      "epoch 8 step 250 tensor(0.3753, device='cuda:0', grad_fn=<SubBackward0>) tensor(3.2737, device='cuda:0', grad_fn=<NegBackward>) (tensor(0.1164, device='cuda:0', grad_fn=<BinaryCrossEntropyWithLogitsBackward>), tensor(0.0994, device='cuda:0', grad_fn=<BinaryCrossEntropyWithLogitsBackward>))\n",
      "epoch 8 step 300 tensor(0.3737, device='cuda:0', grad_fn=<SubBackward0>) tensor(3.8521, device='cuda:0', grad_fn=<NegBackward>) (tensor(0.1450, device='cuda:0', grad_fn=<BinaryCrossEntropyWithLogitsBackward>), tensor(0.1160, device='cuda:0', grad_fn=<BinaryCrossEntropyWithLogitsBackward>))\n",
      "epoch 8 step 350 tensor(0.4262, device='cuda:0', grad_fn=<SubBackward0>) tensor(1.5731, device='cuda:0', grad_fn=<NegBackward>) (tensor(0.1259, device='cuda:0', grad_fn=<BinaryCrossEntropyWithLogitsBackward>), tensor(0.1131, device='cuda:0', grad_fn=<BinaryCrossEntropyWithLogitsBackward>))\n",
      "epoch 9 step 50 tensor(0.7820, device='cuda:0', grad_fn=<SubBackward0>) tensor(4.7757, device='cuda:0', grad_fn=<NegBackward>) (tensor(0.1342, device='cuda:0', grad_fn=<BinaryCrossEntropyWithLogitsBackward>), tensor(0.1118, device='cuda:0', grad_fn=<BinaryCrossEntropyWithLogitsBackward>))\n",
      "epoch 9 step 100 tensor(0.4188, device='cuda:0', grad_fn=<SubBackward0>) tensor(1.6735, device='cuda:0', grad_fn=<NegBackward>) (tensor(0.1473, device='cuda:0', grad_fn=<BinaryCrossEntropyWithLogitsBackward>), tensor(0.1006, device='cuda:0', grad_fn=<BinaryCrossEntropyWithLogitsBackward>))\n",
      "epoch 9 step 150 tensor(0.4585, device='cuda:0', grad_fn=<SubBackward0>) tensor(3.1452, device='cuda:0', grad_fn=<NegBackward>) (tensor(0.1734, device='cuda:0', grad_fn=<BinaryCrossEntropyWithLogitsBackward>), tensor(0.1060, device='cuda:0', grad_fn=<BinaryCrossEntropyWithLogitsBackward>))\n",
      "epoch 9 step 200 tensor(0.9762, device='cuda:0', grad_fn=<SubBackward0>) tensor(3.5444, device='cuda:0', grad_fn=<NegBackward>) (tensor(0.0941, device='cuda:0', grad_fn=<BinaryCrossEntropyWithLogitsBackward>), tensor(0.1110, device='cuda:0', grad_fn=<BinaryCrossEntropyWithLogitsBackward>))\n",
      "epoch 9 step 250 tensor(0.3725, device='cuda:0', grad_fn=<SubBackward0>) tensor(1.5491, device='cuda:0', grad_fn=<NegBackward>) (tensor(0.1192, device='cuda:0', grad_fn=<BinaryCrossEntropyWithLogitsBackward>), tensor(0.0936, device='cuda:0', grad_fn=<BinaryCrossEntropyWithLogitsBackward>))\n",
      "epoch 9 step 300 tensor(0.5681, device='cuda:0', grad_fn=<SubBackward0>) tensor(1.8214, device='cuda:0', grad_fn=<NegBackward>) (tensor(0.1323, device='cuda:0', grad_fn=<BinaryCrossEntropyWithLogitsBackward>), tensor(0.1084, device='cuda:0', grad_fn=<BinaryCrossEntropyWithLogitsBackward>))\n",
      "epoch 9 step 350 tensor(0.2804, device='cuda:0', grad_fn=<SubBackward0>) tensor(1.4652, device='cuda:0', grad_fn=<NegBackward>) (tensor(0.1263, device='cuda:0', grad_fn=<BinaryCrossEntropyWithLogitsBackward>), tensor(0.1337, device='cuda:0', grad_fn=<BinaryCrossEntropyWithLogitsBackward>))\n",
      "epoch 10 step 50 tensor(0.3256, device='cuda:0', grad_fn=<SubBackward0>) tensor(2.7569, device='cuda:0', grad_fn=<NegBackward>) (tensor(0.1579, device='cuda:0', grad_fn=<BinaryCrossEntropyWithLogitsBackward>), tensor(0.1329, device='cuda:0', grad_fn=<BinaryCrossEntropyWithLogitsBackward>))\n",
      "epoch 10 step 100 tensor(0.3736, device='cuda:0', grad_fn=<SubBackward0>) tensor(2.5933, device='cuda:0', grad_fn=<NegBackward>) (tensor(0.1275, device='cuda:0', grad_fn=<BinaryCrossEntropyWithLogitsBackward>), tensor(0.1120, device='cuda:0', grad_fn=<BinaryCrossEntropyWithLogitsBackward>))\n",
      "epoch 10 step 150 tensor(0.9342, device='cuda:0', grad_fn=<SubBackward0>) tensor(4.1443, device='cuda:0', grad_fn=<NegBackward>) (tensor(0.1416, device='cuda:0', grad_fn=<BinaryCrossEntropyWithLogitsBackward>), tensor(0.1309, device='cuda:0', grad_fn=<BinaryCrossEntropyWithLogitsBackward>))\n",
      "epoch 10 step 200 tensor(0.2716, device='cuda:0', grad_fn=<SubBackward0>) tensor(3.5834, device='cuda:0', grad_fn=<NegBackward>) (tensor(0.1514, device='cuda:0', grad_fn=<BinaryCrossEntropyWithLogitsBackward>), tensor(0.1040, device='cuda:0', grad_fn=<BinaryCrossEntropyWithLogitsBackward>))\n",
      "epoch 10 step 250 tensor(0.5096, device='cuda:0', grad_fn=<SubBackward0>) tensor(3.1861, device='cuda:0', grad_fn=<NegBackward>) (tensor(0.1361, device='cuda:0', grad_fn=<BinaryCrossEntropyWithLogitsBackward>), tensor(0.1065, device='cuda:0', grad_fn=<BinaryCrossEntropyWithLogitsBackward>))\n",
      "epoch 10 step 300 tensor(0.3428, device='cuda:0', grad_fn=<SubBackward0>) tensor(2.5761, device='cuda:0', grad_fn=<NegBackward>) (tensor(0.1348, device='cuda:0', grad_fn=<BinaryCrossEntropyWithLogitsBackward>), tensor(0.1064, device='cuda:0', grad_fn=<BinaryCrossEntropyWithLogitsBackward>))\n",
      "epoch 10 step 350 tensor(0.2716, device='cuda:0', grad_fn=<SubBackward0>) tensor(2.9578, device='cuda:0', grad_fn=<NegBackward>) (tensor(0.1335, device='cuda:0', grad_fn=<BinaryCrossEntropyWithLogitsBackward>), tensor(0.0932, device='cuda:0', grad_fn=<BinaryCrossEntropyWithLogitsBackward>))\n",
      "epoch 11 step 50 tensor(0.2889, device='cuda:0', grad_fn=<SubBackward0>) tensor(2.4547, device='cuda:0', grad_fn=<NegBackward>) (tensor(0.1257, device='cuda:0', grad_fn=<BinaryCrossEntropyWithLogitsBackward>), tensor(0.0983, device='cuda:0', grad_fn=<BinaryCrossEntropyWithLogitsBackward>))\n",
      "epoch 11 step 100 tensor(1.4948, device='cuda:0', grad_fn=<SubBackward0>) tensor(3.3053, device='cuda:0', grad_fn=<NegBackward>) (tensor(0.1696, device='cuda:0', grad_fn=<BinaryCrossEntropyWithLogitsBackward>), tensor(0.0908, device='cuda:0', grad_fn=<BinaryCrossEntropyWithLogitsBackward>))\n",
      "epoch 11 step 150 tensor(0.2532, device='cuda:0', grad_fn=<SubBackward0>) tensor(2.2065, device='cuda:0', grad_fn=<NegBackward>) (tensor(0.1748, device='cuda:0', grad_fn=<BinaryCrossEntropyWithLogitsBackward>), tensor(0.0911, device='cuda:0', grad_fn=<BinaryCrossEntropyWithLogitsBackward>))\n",
      "epoch 11 step 200 tensor(0.6963, device='cuda:0', grad_fn=<SubBackward0>) tensor(0.7819, device='cuda:0', grad_fn=<NegBackward>) (tensor(0.1671, device='cuda:0', grad_fn=<BinaryCrossEntropyWithLogitsBackward>), tensor(0.0963, device='cuda:0', grad_fn=<BinaryCrossEntropyWithLogitsBackward>))\n",
      "epoch 11 step 250 tensor(0.3648, device='cuda:0', grad_fn=<SubBackward0>) tensor(2.5382, device='cuda:0', grad_fn=<NegBackward>) (tensor(0.1198, device='cuda:0', grad_fn=<BinaryCrossEntropyWithLogitsBackward>), tensor(0.0881, device='cuda:0', grad_fn=<BinaryCrossEntropyWithLogitsBackward>))\n",
      "epoch 11 step 300 tensor(0.3577, device='cuda:0', grad_fn=<SubBackward0>) tensor(3.3944, device='cuda:0', grad_fn=<NegBackward>) (tensor(0.1516, device='cuda:0', grad_fn=<BinaryCrossEntropyWithLogitsBackward>), tensor(0.1187, device='cuda:0', grad_fn=<BinaryCrossEntropyWithLogitsBackward>))\n",
      "epoch 11 step 350 tensor(0.2392, device='cuda:0', grad_fn=<SubBackward0>) tensor(3.8290, device='cuda:0', grad_fn=<NegBackward>) (tensor(0.1149, device='cuda:0', grad_fn=<BinaryCrossEntropyWithLogitsBackward>), tensor(0.1475, device='cuda:0', grad_fn=<BinaryCrossEntropyWithLogitsBackward>))\n",
      "epoch 12 step 50 tensor(0.3530, device='cuda:0', grad_fn=<SubBackward0>) tensor(3.0106, device='cuda:0', grad_fn=<NegBackward>) (tensor(0.1235, device='cuda:0', grad_fn=<BinaryCrossEntropyWithLogitsBackward>), tensor(0.1158, device='cuda:0', grad_fn=<BinaryCrossEntropyWithLogitsBackward>))\n",
      "epoch 12 step 100 tensor(0.2960, device='cuda:0', grad_fn=<SubBackward0>) tensor(3.0572, device='cuda:0', grad_fn=<NegBackward>) (tensor(0.1047, device='cuda:0', grad_fn=<BinaryCrossEntropyWithLogitsBackward>), tensor(0.1037, device='cuda:0', grad_fn=<BinaryCrossEntropyWithLogitsBackward>))\n",
      "epoch 12 step 150 tensor(0.1957, device='cuda:0', grad_fn=<SubBackward0>) tensor(2.8573, device='cuda:0', grad_fn=<NegBackward>) (tensor(0.1177, device='cuda:0', grad_fn=<BinaryCrossEntropyWithLogitsBackward>), tensor(0.0957, device='cuda:0', grad_fn=<BinaryCrossEntropyWithLogitsBackward>))\n",
      "epoch 12 step 200 tensor(0.2382, device='cuda:0', grad_fn=<SubBackward0>) tensor(2.7246, device='cuda:0', grad_fn=<NegBackward>) (tensor(0.1244, device='cuda:0', grad_fn=<BinaryCrossEntropyWithLogitsBackward>), tensor(0.0912, device='cuda:0', grad_fn=<BinaryCrossEntropyWithLogitsBackward>))\n",
      "epoch 12 step 250 tensor(0.2230, device='cuda:0', grad_fn=<SubBackward0>) tensor(2.5318, device='cuda:0', grad_fn=<NegBackward>) (tensor(0.1697, device='cuda:0', grad_fn=<BinaryCrossEntropyWithLogitsBackward>), tensor(0.1181, device='cuda:0', grad_fn=<BinaryCrossEntropyWithLogitsBackward>))\n",
      "epoch 12 step 300 tensor(0.2412, device='cuda:0', grad_fn=<SubBackward0>) tensor(2.5223, device='cuda:0', grad_fn=<NegBackward>) (tensor(0.1302, device='cuda:0', grad_fn=<BinaryCrossEntropyWithLogitsBackward>), tensor(0.1436, device='cuda:0', grad_fn=<BinaryCrossEntropyWithLogitsBackward>))\n",
      "epoch 12 step 350 tensor(0.5042, device='cuda:0', grad_fn=<SubBackward0>) tensor(1.8015, device='cuda:0', grad_fn=<NegBackward>) (tensor(0.1623, device='cuda:0', grad_fn=<BinaryCrossEntropyWithLogitsBackward>), tensor(0.1264, device='cuda:0', grad_fn=<BinaryCrossEntropyWithLogitsBackward>))\n",
      "epoch 13 step 50 tensor(0.3993, device='cuda:0', grad_fn=<SubBackward0>) tensor(3.6240, device='cuda:0', grad_fn=<NegBackward>) (tensor(0.1211, device='cuda:0', grad_fn=<BinaryCrossEntropyWithLogitsBackward>), tensor(0.1276, device='cuda:0', grad_fn=<BinaryCrossEntropyWithLogitsBackward>))\n",
      "epoch 13 step 100 tensor(0.4009, device='cuda:0', grad_fn=<SubBackward0>) tensor(2.3935, device='cuda:0', grad_fn=<NegBackward>) (tensor(0.1207, device='cuda:0', grad_fn=<BinaryCrossEntropyWithLogitsBackward>), tensor(0.0945, device='cuda:0', grad_fn=<BinaryCrossEntropyWithLogitsBackward>))\n",
      "epoch 13 step 150 tensor(0.2646, device='cuda:0', grad_fn=<SubBackward0>) tensor(3.1558, device='cuda:0', grad_fn=<NegBackward>) (tensor(0.1257, device='cuda:0', grad_fn=<BinaryCrossEntropyWithLogitsBackward>), tensor(0.0961, device='cuda:0', grad_fn=<BinaryCrossEntropyWithLogitsBackward>))\n",
      "epoch 13 step 200 tensor(0.3467, device='cuda:0', grad_fn=<SubBackward0>) tensor(2.9674, device='cuda:0', grad_fn=<NegBackward>) (tensor(0.1525, device='cuda:0', grad_fn=<BinaryCrossEntropyWithLogitsBackward>), tensor(0.1207, device='cuda:0', grad_fn=<BinaryCrossEntropyWithLogitsBackward>))\n",
      "epoch 13 step 250 tensor(0.3003, device='cuda:0', grad_fn=<SubBackward0>) tensor(2.0404, device='cuda:0', grad_fn=<NegBackward>) (tensor(0.1326, device='cuda:0', grad_fn=<BinaryCrossEntropyWithLogitsBackward>), tensor(0.0985, device='cuda:0', grad_fn=<BinaryCrossEntropyWithLogitsBackward>))\n",
      "epoch 13 step 300 tensor(0.2863, device='cuda:0', grad_fn=<SubBackward0>) tensor(2.3145, device='cuda:0', grad_fn=<NegBackward>) (tensor(0.1135, device='cuda:0', grad_fn=<BinaryCrossEntropyWithLogitsBackward>), tensor(0.1226, device='cuda:0', grad_fn=<BinaryCrossEntropyWithLogitsBackward>))\n",
      "epoch 13 step 350 tensor(0.2889, device='cuda:0', grad_fn=<SubBackward0>) tensor(2.3425, device='cuda:0', grad_fn=<NegBackward>) (tensor(0.1417, device='cuda:0', grad_fn=<BinaryCrossEntropyWithLogitsBackward>), tensor(0.0966, device='cuda:0', grad_fn=<BinaryCrossEntropyWithLogitsBackward>))\n",
      "epoch 14 step 50 tensor(0.5714, device='cuda:0', grad_fn=<SubBackward0>) tensor(1.9952, device='cuda:0', grad_fn=<NegBackward>) (tensor(0.1330, device='cuda:0', grad_fn=<BinaryCrossEntropyWithLogitsBackward>), tensor(0.1162, device='cuda:0', grad_fn=<BinaryCrossEntropyWithLogitsBackward>))\n",
      "epoch 14 step 100 tensor(0.3286, device='cuda:0', grad_fn=<SubBackward0>) tensor(2.1654, device='cuda:0', grad_fn=<NegBackward>) (tensor(0.1511, device='cuda:0', grad_fn=<BinaryCrossEntropyWithLogitsBackward>), tensor(0.1091, device='cuda:0', grad_fn=<BinaryCrossEntropyWithLogitsBackward>))\n",
      "epoch 14 step 150 tensor(0.3796, device='cuda:0', grad_fn=<SubBackward0>) tensor(3.3053, device='cuda:0', grad_fn=<NegBackward>) (tensor(0.1443, device='cuda:0', grad_fn=<BinaryCrossEntropyWithLogitsBackward>), tensor(0.1188, device='cuda:0', grad_fn=<BinaryCrossEntropyWithLogitsBackward>))\n",
      "epoch 14 step 200 tensor(0.3989, device='cuda:0', grad_fn=<SubBackward0>) tensor(5.7072, device='cuda:0', grad_fn=<NegBackward>) (tensor(0.1212, device='cuda:0', grad_fn=<BinaryCrossEntropyWithLogitsBackward>), tensor(0.1192, device='cuda:0', grad_fn=<BinaryCrossEntropyWithLogitsBackward>))\n",
      "epoch 14 step 250 tensor(0.2680, device='cuda:0', grad_fn=<SubBackward0>) tensor(1.6344, device='cuda:0', grad_fn=<NegBackward>) (tensor(0.1406, device='cuda:0', grad_fn=<BinaryCrossEntropyWithLogitsBackward>), tensor(0.0977, device='cuda:0', grad_fn=<BinaryCrossEntropyWithLogitsBackward>))\n",
      "epoch 14 step 300 tensor(0.2314, device='cuda:0', grad_fn=<SubBackward0>) tensor(2.2335, device='cuda:0', grad_fn=<NegBackward>) (tensor(0.1010, device='cuda:0', grad_fn=<BinaryCrossEntropyWithLogitsBackward>), tensor(0.1201, device='cuda:0', grad_fn=<BinaryCrossEntropyWithLogitsBackward>))\n",
      "epoch 14 step 350 tensor(0.3835, device='cuda:0', grad_fn=<SubBackward0>) tensor(3.2566, device='cuda:0', grad_fn=<NegBackward>) (tensor(0.1213, device='cuda:0', grad_fn=<BinaryCrossEntropyWithLogitsBackward>), tensor(0.0954, device='cuda:0', grad_fn=<BinaryCrossEntropyWithLogitsBackward>))\n",
      "epoch 15 step 50 tensor(0.3458, device='cuda:0', grad_fn=<SubBackward0>) tensor(3.5074, device='cuda:0', grad_fn=<NegBackward>) (tensor(0.1449, device='cuda:0', grad_fn=<BinaryCrossEntropyWithLogitsBackward>), tensor(0.1095, device='cuda:0', grad_fn=<BinaryCrossEntropyWithLogitsBackward>))\n",
      "epoch 15 step 100 tensor(0.2778, device='cuda:0', grad_fn=<SubBackward0>) tensor(2.5055, device='cuda:0', grad_fn=<NegBackward>) (tensor(0.1420, device='cuda:0', grad_fn=<BinaryCrossEntropyWithLogitsBackward>), tensor(0.1381, device='cuda:0', grad_fn=<BinaryCrossEntropyWithLogitsBackward>))\n",
      "epoch 15 step 150 tensor(0.2494, device='cuda:0', grad_fn=<SubBackward0>) tensor(3.4675, device='cuda:0', grad_fn=<NegBackward>) (tensor(0.1294, device='cuda:0', grad_fn=<BinaryCrossEntropyWithLogitsBackward>), tensor(0.0848, device='cuda:0', grad_fn=<BinaryCrossEntropyWithLogitsBackward>))\n",
      "epoch 15 step 200 tensor(0.3856, device='cuda:0', grad_fn=<SubBackward0>) tensor(3.9297, device='cuda:0', grad_fn=<NegBackward>) (tensor(0.1345, device='cuda:0', grad_fn=<BinaryCrossEntropyWithLogitsBackward>), tensor(0.1085, device='cuda:0', grad_fn=<BinaryCrossEntropyWithLogitsBackward>))\n",
      "epoch 15 step 250 tensor(0.4623, device='cuda:0', grad_fn=<SubBackward0>) tensor(2.8083, device='cuda:0', grad_fn=<NegBackward>) (tensor(0.1127, device='cuda:0', grad_fn=<BinaryCrossEntropyWithLogitsBackward>), tensor(0.1116, device='cuda:0', grad_fn=<BinaryCrossEntropyWithLogitsBackward>))\n",
      "epoch 15 step 300 tensor(0.4703, device='cuda:0', grad_fn=<SubBackward0>) tensor(3.6735, device='cuda:0', grad_fn=<NegBackward>) (tensor(0.1467, device='cuda:0', grad_fn=<BinaryCrossEntropyWithLogitsBackward>), tensor(0.1039, device='cuda:0', grad_fn=<BinaryCrossEntropyWithLogitsBackward>))\n",
      "epoch 15 step 350 tensor(0.3335, device='cuda:0', grad_fn=<SubBackward0>) tensor(3.1086, device='cuda:0', grad_fn=<NegBackward>) (tensor(0.1363, device='cuda:0', grad_fn=<BinaryCrossEntropyWithLogitsBackward>), tensor(0.1150, device='cuda:0', grad_fn=<BinaryCrossEntropyWithLogitsBackward>))\n",
      "epoch 16 step 50 tensor(0.2363, device='cuda:0', grad_fn=<SubBackward0>) tensor(2.3379, device='cuda:0', grad_fn=<NegBackward>) (tensor(0.1231, device='cuda:0', grad_fn=<BinaryCrossEntropyWithLogitsBackward>), tensor(0.1273, device='cuda:0', grad_fn=<BinaryCrossEntropyWithLogitsBackward>))\n",
      "epoch 16 step 100 tensor(0.7121, device='cuda:0', grad_fn=<SubBackward0>) tensor(2.6630, device='cuda:0', grad_fn=<NegBackward>) (tensor(0.1474, device='cuda:0', grad_fn=<BinaryCrossEntropyWithLogitsBackward>), tensor(0.1070, device='cuda:0', grad_fn=<BinaryCrossEntropyWithLogitsBackward>))\n",
      "epoch 16 step 150 tensor(0.4397, device='cuda:0', grad_fn=<SubBackward0>) tensor(1.7460, device='cuda:0', grad_fn=<NegBackward>) (tensor(0.1382, device='cuda:0', grad_fn=<BinaryCrossEntropyWithLogitsBackward>), tensor(0.1344, device='cuda:0', grad_fn=<BinaryCrossEntropyWithLogitsBackward>))\n",
      "epoch 16 step 200 tensor(0.4795, device='cuda:0', grad_fn=<SubBackward0>) tensor(1.7893, device='cuda:0', grad_fn=<NegBackward>) (tensor(0.1030, device='cuda:0', grad_fn=<BinaryCrossEntropyWithLogitsBackward>), tensor(0.1240, device='cuda:0', grad_fn=<BinaryCrossEntropyWithLogitsBackward>))\n",
      "epoch 16 step 250 tensor(0.4137, device='cuda:0', grad_fn=<SubBackward0>) tensor(2.3391, device='cuda:0', grad_fn=<NegBackward>) (tensor(0.0983, device='cuda:0', grad_fn=<BinaryCrossEntropyWithLogitsBackward>), tensor(0.1012, device='cuda:0', grad_fn=<BinaryCrossEntropyWithLogitsBackward>))\n",
      "epoch 16 step 300 tensor(0.2474, device='cuda:0', grad_fn=<SubBackward0>) tensor(2.5216, device='cuda:0', grad_fn=<NegBackward>) (tensor(0.0985, device='cuda:0', grad_fn=<BinaryCrossEntropyWithLogitsBackward>), tensor(0.0898, device='cuda:0', grad_fn=<BinaryCrossEntropyWithLogitsBackward>))\n",
      "epoch 16 step 350 tensor(0.7685, device='cuda:0', grad_fn=<SubBackward0>) tensor(1.2841, device='cuda:0', grad_fn=<NegBackward>) (tensor(0.1278, device='cuda:0', grad_fn=<BinaryCrossEntropyWithLogitsBackward>), tensor(0.0934, device='cuda:0', grad_fn=<BinaryCrossEntropyWithLogitsBackward>))\n",
      "epoch 17 step 50 tensor(0.4616, device='cuda:0', grad_fn=<SubBackward0>) tensor(5.0367, device='cuda:0', grad_fn=<NegBackward>) (tensor(0.1135, device='cuda:0', grad_fn=<BinaryCrossEntropyWithLogitsBackward>), tensor(0.1355, device='cuda:0', grad_fn=<BinaryCrossEntropyWithLogitsBackward>))\n",
      "epoch 17 step 100 tensor(0.2029, device='cuda:0', grad_fn=<SubBackward0>) tensor(1.8072, device='cuda:0', grad_fn=<NegBackward>) (tensor(0.0902, device='cuda:0', grad_fn=<BinaryCrossEntropyWithLogitsBackward>), tensor(0.1171, device='cuda:0', grad_fn=<BinaryCrossEntropyWithLogitsBackward>))\n",
      "epoch 17 step 150 tensor(0.3558, device='cuda:0', grad_fn=<SubBackward0>) tensor(2.4090, device='cuda:0', grad_fn=<NegBackward>) (tensor(0.1480, device='cuda:0', grad_fn=<BinaryCrossEntropyWithLogitsBackward>), tensor(0.1256, device='cuda:0', grad_fn=<BinaryCrossEntropyWithLogitsBackward>))\n",
      "epoch 17 step 200 tensor(0.3668, device='cuda:0', grad_fn=<SubBackward0>) tensor(2.7287, device='cuda:0', grad_fn=<NegBackward>) (tensor(0.1183, device='cuda:0', grad_fn=<BinaryCrossEntropyWithLogitsBackward>), tensor(0.1020, device='cuda:0', grad_fn=<BinaryCrossEntropyWithLogitsBackward>))\n",
      "epoch 17 step 250 tensor(0.2061, device='cuda:0', grad_fn=<SubBackward0>) tensor(3.0600, device='cuda:0', grad_fn=<NegBackward>) (tensor(0.0950, device='cuda:0', grad_fn=<BinaryCrossEntropyWithLogitsBackward>), tensor(0.1177, device='cuda:0', grad_fn=<BinaryCrossEntropyWithLogitsBackward>))\n",
      "epoch 17 step 300 tensor(1.0196, device='cuda:0', grad_fn=<SubBackward0>) tensor(4.8926, device='cuda:0', grad_fn=<NegBackward>) (tensor(0.1289, device='cuda:0', grad_fn=<BinaryCrossEntropyWithLogitsBackward>), tensor(0.1342, device='cuda:0', grad_fn=<BinaryCrossEntropyWithLogitsBackward>))\n",
      "epoch 17 step 350 tensor(0.2425, device='cuda:0', grad_fn=<SubBackward0>) tensor(2.3711, device='cuda:0', grad_fn=<NegBackward>) (tensor(0.1291, device='cuda:0', grad_fn=<BinaryCrossEntropyWithLogitsBackward>), tensor(0.0930, device='cuda:0', grad_fn=<BinaryCrossEntropyWithLogitsBackward>))\n",
      "epoch 18 step 50 tensor(0.2779, device='cuda:0', grad_fn=<SubBackward0>) tensor(2.6488, device='cuda:0', grad_fn=<NegBackward>) (tensor(0.1271, device='cuda:0', grad_fn=<BinaryCrossEntropyWithLogitsBackward>), tensor(0.0928, device='cuda:0', grad_fn=<BinaryCrossEntropyWithLogitsBackward>))\n",
      "epoch 18 step 100 tensor(0.4758, device='cuda:0', grad_fn=<SubBackward0>) tensor(4.5468, device='cuda:0', grad_fn=<NegBackward>) (tensor(0.1073, device='cuda:0', grad_fn=<BinaryCrossEntropyWithLogitsBackward>), tensor(0.1009, device='cuda:0', grad_fn=<BinaryCrossEntropyWithLogitsBackward>))\n",
      "epoch 18 step 150 tensor(0.5420, device='cuda:0', grad_fn=<SubBackward0>) tensor(1.0850, device='cuda:0', grad_fn=<NegBackward>) (tensor(0.1766, device='cuda:0', grad_fn=<BinaryCrossEntropyWithLogitsBackward>), tensor(0.1234, device='cuda:0', grad_fn=<BinaryCrossEntropyWithLogitsBackward>))\n",
      "epoch 18 step 200 tensor(1.3032, device='cuda:0', grad_fn=<SubBackward0>) tensor(0.9475, device='cuda:0', grad_fn=<NegBackward>) (tensor(0.1217, device='cuda:0', grad_fn=<BinaryCrossEntropyWithLogitsBackward>), tensor(0.1461, device='cuda:0', grad_fn=<BinaryCrossEntropyWithLogitsBackward>))\n",
      "epoch 18 step 250 tensor(0.2534, device='cuda:0', grad_fn=<SubBackward0>) tensor(2.5705, device='cuda:0', grad_fn=<NegBackward>) (tensor(0.1147, device='cuda:0', grad_fn=<BinaryCrossEntropyWithLogitsBackward>), tensor(0.1190, device='cuda:0', grad_fn=<BinaryCrossEntropyWithLogitsBackward>))\n",
      "epoch 18 step 300 tensor(0.2141, device='cuda:0', grad_fn=<SubBackward0>) tensor(2.9519, device='cuda:0', grad_fn=<NegBackward>) (tensor(0.1309, device='cuda:0', grad_fn=<BinaryCrossEntropyWithLogitsBackward>), tensor(0.0932, device='cuda:0', grad_fn=<BinaryCrossEntropyWithLogitsBackward>))\n",
      "epoch 18 step 350 tensor(0.3074, device='cuda:0', grad_fn=<SubBackward0>) tensor(5.1551, device='cuda:0', grad_fn=<NegBackward>) (tensor(0.1334, device='cuda:0', grad_fn=<BinaryCrossEntropyWithLogitsBackward>), tensor(0.1420, device='cuda:0', grad_fn=<BinaryCrossEntropyWithLogitsBackward>))\n",
      "epoch 19 step 50 tensor(0.5751, device='cuda:0', grad_fn=<SubBackward0>) tensor(4.2237, device='cuda:0', grad_fn=<NegBackward>) (tensor(0.1040, device='cuda:0', grad_fn=<BinaryCrossEntropyWithLogitsBackward>), tensor(0.1438, device='cuda:0', grad_fn=<BinaryCrossEntropyWithLogitsBackward>))\n",
      "epoch 19 step 100 tensor(0.4752, device='cuda:0', grad_fn=<SubBackward0>) tensor(1.6517, device='cuda:0', grad_fn=<NegBackward>) (tensor(0.1056, device='cuda:0', grad_fn=<BinaryCrossEntropyWithLogitsBackward>), tensor(0.1159, device='cuda:0', grad_fn=<BinaryCrossEntropyWithLogitsBackward>))\n",
      "epoch 19 step 150 tensor(0.2852, device='cuda:0', grad_fn=<SubBackward0>) tensor(3.1363, device='cuda:0', grad_fn=<NegBackward>) (tensor(0.0906, device='cuda:0', grad_fn=<BinaryCrossEntropyWithLogitsBackward>), tensor(0.0958, device='cuda:0', grad_fn=<BinaryCrossEntropyWithLogitsBackward>))\n",
      "epoch 19 step 200 tensor(0.3732, device='cuda:0', grad_fn=<SubBackward0>) tensor(3.0665, device='cuda:0', grad_fn=<NegBackward>) (tensor(0.1453, device='cuda:0', grad_fn=<BinaryCrossEntropyWithLogitsBackward>), tensor(0.0959, device='cuda:0', grad_fn=<BinaryCrossEntropyWithLogitsBackward>))\n",
      "epoch 19 step 250 tensor(0.7946, device='cuda:0', grad_fn=<SubBackward0>) tensor(3.0670, device='cuda:0', grad_fn=<NegBackward>) (tensor(0.1601, device='cuda:0', grad_fn=<BinaryCrossEntropyWithLogitsBackward>), tensor(0.1173, device='cuda:0', grad_fn=<BinaryCrossEntropyWithLogitsBackward>))\n",
      "epoch 19 step 300 tensor(0.3751, device='cuda:0', grad_fn=<SubBackward0>) tensor(1.9842, device='cuda:0', grad_fn=<NegBackward>) (tensor(0.1249, device='cuda:0', grad_fn=<BinaryCrossEntropyWithLogitsBackward>), tensor(0.1408, device='cuda:0', grad_fn=<BinaryCrossEntropyWithLogitsBackward>))\n",
      "epoch 19 step 350 tensor(0.1731, device='cuda:0', grad_fn=<SubBackward0>) tensor(3.5713, device='cuda:0', grad_fn=<NegBackward>) (tensor(0.1342, device='cuda:0', grad_fn=<BinaryCrossEntropyWithLogitsBackward>), tensor(0.1104, device='cuda:0', grad_fn=<BinaryCrossEntropyWithLogitsBackward>))\n",
      "epoch 20 step 50 tensor(0.1934, device='cuda:0', grad_fn=<SubBackward0>) tensor(3.5409, device='cuda:0', grad_fn=<NegBackward>) (tensor(0.1184, device='cuda:0', grad_fn=<BinaryCrossEntropyWithLogitsBackward>), tensor(0.1108, device='cuda:0', grad_fn=<BinaryCrossEntropyWithLogitsBackward>))\n",
      "epoch 20 step 100 tensor(1.7964, device='cuda:0', grad_fn=<SubBackward0>) tensor(3.2835, device='cuda:0', grad_fn=<NegBackward>) (tensor(0.1152, device='cuda:0', grad_fn=<BinaryCrossEntropyWithLogitsBackward>), tensor(0.0931, device='cuda:0', grad_fn=<BinaryCrossEntropyWithLogitsBackward>))\n",
      "epoch 20 step 150 tensor(0.3906, device='cuda:0', grad_fn=<SubBackward0>) tensor(3.0027, device='cuda:0', grad_fn=<NegBackward>) (tensor(0.1289, device='cuda:0', grad_fn=<BinaryCrossEntropyWithLogitsBackward>), tensor(0.1374, device='cuda:0', grad_fn=<BinaryCrossEntropyWithLogitsBackward>))\n",
      "epoch 20 step 200 tensor(0.2077, device='cuda:0', grad_fn=<SubBackward0>) tensor(3.0120, device='cuda:0', grad_fn=<NegBackward>) (tensor(0.1264, device='cuda:0', grad_fn=<BinaryCrossEntropyWithLogitsBackward>), tensor(0.0984, device='cuda:0', grad_fn=<BinaryCrossEntropyWithLogitsBackward>))\n",
      "epoch 20 step 250 tensor(0.5540, device='cuda:0', grad_fn=<SubBackward0>) tensor(2.4161, device='cuda:0', grad_fn=<NegBackward>) (tensor(0.0803, device='cuda:0', grad_fn=<BinaryCrossEntropyWithLogitsBackward>), tensor(0.0885, device='cuda:0', grad_fn=<BinaryCrossEntropyWithLogitsBackward>))\n",
      "epoch 20 step 300 tensor(0.4737, device='cuda:0', grad_fn=<SubBackward0>) tensor(3.0775, device='cuda:0', grad_fn=<NegBackward>) (tensor(0.1311, device='cuda:0', grad_fn=<BinaryCrossEntropyWithLogitsBackward>), tensor(0.1163, device='cuda:0', grad_fn=<BinaryCrossEntropyWithLogitsBackward>))\n",
      "epoch 20 step 350 tensor(0.1911, device='cuda:0', grad_fn=<SubBackward0>) tensor(2.0335, device='cuda:0', grad_fn=<NegBackward>) (tensor(0.1455, device='cuda:0', grad_fn=<BinaryCrossEntropyWithLogitsBackward>), tensor(0.1265, device='cuda:0', grad_fn=<BinaryCrossEntropyWithLogitsBackward>))\n",
      "epoch 21 step 50 tensor(0.1539, device='cuda:0', grad_fn=<SubBackward0>) tensor(3.0843, device='cuda:0', grad_fn=<NegBackward>) (tensor(0.1406, device='cuda:0', grad_fn=<BinaryCrossEntropyWithLogitsBackward>), tensor(0.1121, device='cuda:0', grad_fn=<BinaryCrossEntropyWithLogitsBackward>))\n",
      "epoch 21 step 100 tensor(0.1848, device='cuda:0', grad_fn=<SubBackward0>) tensor(3.4448, device='cuda:0', grad_fn=<NegBackward>) (tensor(0.1185, device='cuda:0', grad_fn=<BinaryCrossEntropyWithLogitsBackward>), tensor(0.1185, device='cuda:0', grad_fn=<BinaryCrossEntropyWithLogitsBackward>))\n",
      "epoch 21 step 150 tensor(1.7067, device='cuda:0', grad_fn=<SubBackward0>) tensor(3.0894, device='cuda:0', grad_fn=<NegBackward>) (tensor(0.1196, device='cuda:0', grad_fn=<BinaryCrossEntropyWithLogitsBackward>), tensor(0.1251, device='cuda:0', grad_fn=<BinaryCrossEntropyWithLogitsBackward>))\n",
      "epoch 21 step 200 tensor(0.5436, device='cuda:0', grad_fn=<SubBackward0>) tensor(2.5899, device='cuda:0', grad_fn=<NegBackward>) (tensor(0.1250, device='cuda:0', grad_fn=<BinaryCrossEntropyWithLogitsBackward>), tensor(0.0996, device='cuda:0', grad_fn=<BinaryCrossEntropyWithLogitsBackward>))\n",
      "epoch 21 step 250 tensor(0.4431, device='cuda:0', grad_fn=<SubBackward0>) tensor(1.8096, device='cuda:0', grad_fn=<NegBackward>) (tensor(0.1584, device='cuda:0', grad_fn=<BinaryCrossEntropyWithLogitsBackward>), tensor(0.1659, device='cuda:0', grad_fn=<BinaryCrossEntropyWithLogitsBackward>))\n",
      "epoch 21 step 300 tensor(0.3738, device='cuda:0', grad_fn=<SubBackward0>) tensor(2.9567, device='cuda:0', grad_fn=<NegBackward>) (tensor(0.1170, device='cuda:0', grad_fn=<BinaryCrossEntropyWithLogitsBackward>), tensor(0.1051, device='cuda:0', grad_fn=<BinaryCrossEntropyWithLogitsBackward>))\n",
      "epoch 21 step 350 tensor(0.5325, device='cuda:0', grad_fn=<SubBackward0>) tensor(4.4465, device='cuda:0', grad_fn=<NegBackward>) (tensor(0.1514, device='cuda:0', grad_fn=<BinaryCrossEntropyWithLogitsBackward>), tensor(0.1469, device='cuda:0', grad_fn=<BinaryCrossEntropyWithLogitsBackward>))\n",
      "epoch 22 step 50 tensor(0.4109, device='cuda:0', grad_fn=<SubBackward0>) tensor(2.9042, device='cuda:0', grad_fn=<NegBackward>) (tensor(0.1066, device='cuda:0', grad_fn=<BinaryCrossEntropyWithLogitsBackward>), tensor(0.1271, device='cuda:0', grad_fn=<BinaryCrossEntropyWithLogitsBackward>))\n",
      "epoch 22 step 100 tensor(0.4096, device='cuda:0', grad_fn=<SubBackward0>) tensor(2.0260, device='cuda:0', grad_fn=<NegBackward>) (tensor(0.1250, device='cuda:0', grad_fn=<BinaryCrossEntropyWithLogitsBackward>), tensor(0.0816, device='cuda:0', grad_fn=<BinaryCrossEntropyWithLogitsBackward>))\n",
      "epoch 22 step 150 tensor(1.2300, device='cuda:0', grad_fn=<SubBackward0>) tensor(1.9578, device='cuda:0', grad_fn=<NegBackward>) (tensor(0.1268, device='cuda:0', grad_fn=<BinaryCrossEntropyWithLogitsBackward>), tensor(0.1333, device='cuda:0', grad_fn=<BinaryCrossEntropyWithLogitsBackward>))\n",
      "epoch 22 step 200 tensor(0.5574, device='cuda:0', grad_fn=<SubBackward0>) tensor(1.1689, device='cuda:0', grad_fn=<NegBackward>) (tensor(0.1361, device='cuda:0', grad_fn=<BinaryCrossEntropyWithLogitsBackward>), tensor(0.1102, device='cuda:0', grad_fn=<BinaryCrossEntropyWithLogitsBackward>))\n",
      "epoch 22 step 250 tensor(0.2152, device='cuda:0', grad_fn=<SubBackward0>) tensor(2.4285, device='cuda:0', grad_fn=<NegBackward>) (tensor(0.1175, device='cuda:0', grad_fn=<BinaryCrossEntropyWithLogitsBackward>), tensor(0.1296, device='cuda:0', grad_fn=<BinaryCrossEntropyWithLogitsBackward>))\n",
      "epoch 22 step 300 tensor(0.1650, device='cuda:0', grad_fn=<SubBackward0>) tensor(2.7291, device='cuda:0', grad_fn=<NegBackward>) (tensor(0.1473, device='cuda:0', grad_fn=<BinaryCrossEntropyWithLogitsBackward>), tensor(0.1398, device='cuda:0', grad_fn=<BinaryCrossEntropyWithLogitsBackward>))\n",
      "epoch 22 step 350 tensor(0.2854, device='cuda:0', grad_fn=<SubBackward0>) tensor(5.6434, device='cuda:0', grad_fn=<NegBackward>) (tensor(0.1391, device='cuda:0', grad_fn=<BinaryCrossEntropyWithLogitsBackward>), tensor(0.0871, device='cuda:0', grad_fn=<BinaryCrossEntropyWithLogitsBackward>))\n"
     ]
    },
    {
     "ename": "KeyboardInterrupt",
     "evalue": "",
     "output_type": "error",
     "traceback": [
      "\u001b[0;31m---------------------------------------------------------------------------\u001b[0m",
      "\u001b[0;31mKeyboardInterrupt\u001b[0m                         Traceback (most recent call last)",
      "\u001b[0;32m<ipython-input-7-04f817c3a83d>\u001b[0m in \u001b[0;36m<module>\u001b[0;34m\u001b[0m\n\u001b[1;32m      1\u001b[0m \u001b[0;31m# cometml_key=config['comet_ml']['api_key']\u001b[0m\u001b[0;34m\u001b[0m\u001b[0;34m\u001b[0m\u001b[0;34m\u001b[0m\u001b[0m\n\u001b[0;32m----> 2\u001b[0;31m \u001b[0msynthesizer\u001b[0m\u001b[0;34m.\u001b[0m\u001b[0mtrain\u001b[0m\u001b[0;34m(\u001b[0m\u001b[0mdata\u001b[0m\u001b[0;34m.\u001b[0m\u001b[0mvalues\u001b[0m\u001b[0;34m)\u001b[0m\u001b[0;34m\u001b[0m\u001b[0;34m\u001b[0m\u001b[0m\n\u001b[0m",
      "\u001b[0;32m~/SDGym/synthetic_data_benchmark/synthesizer/tablegan_synthesizer.py\u001b[0m in \u001b[0;36mtrain\u001b[0;34m(self, train_data, cometml_key)\u001b[0m\n\u001b[1;32m    235\u001b[0m                     \u001b[0;31m# print(real_label)\u001b[0m\u001b[0;34m\u001b[0m\u001b[0;34m\u001b[0m\u001b[0;34m\u001b[0m\u001b[0m\n\u001b[1;32m    236\u001b[0m                     \u001b[0;31m# assert 0\u001b[0m\u001b[0;34m\u001b[0m\u001b[0;34m\u001b[0m\u001b[0;34m\u001b[0m\u001b[0m\n\u001b[0;32m--> 237\u001b[0;31m                     \u001b[0mfake_pre\u001b[0m\u001b[0;34m,\u001b[0m \u001b[0mfake_label\u001b[0m \u001b[0;34m=\u001b[0m \u001b[0mclassifier\u001b[0m\u001b[0;34m(\u001b[0m\u001b[0mfake\u001b[0m\u001b[0;34m)\u001b[0m\u001b[0;34m\u001b[0m\u001b[0;34m\u001b[0m\u001b[0m\n\u001b[0m\u001b[1;32m    238\u001b[0m                     \u001b[0;31m# print(real_pre, real_label)\u001b[0m\u001b[0;34m\u001b[0m\u001b[0;34m\u001b[0m\u001b[0;34m\u001b[0m\u001b[0m\n\u001b[1;32m    239\u001b[0m                     \u001b[0mloss_cc\u001b[0m \u001b[0;34m=\u001b[0m \u001b[0mF\u001b[0m\u001b[0;34m.\u001b[0m\u001b[0mbinary_cross_entropy_with_logits\u001b[0m\u001b[0;34m(\u001b[0m\u001b[0mreal_pre\u001b[0m\u001b[0;34m,\u001b[0m \u001b[0mreal_label\u001b[0m\u001b[0;34m)\u001b[0m\u001b[0;34m\u001b[0m\u001b[0;34m\u001b[0m\u001b[0m\n",
      "\u001b[0;32m~/anaconda3/envs/torch/lib/python3.6/site-packages/torch/nn/modules/module.py\u001b[0m in \u001b[0;36m__call__\u001b[0;34m(self, *input, **kwargs)\u001b[0m\n\u001b[1;32m    491\u001b[0m             \u001b[0mresult\u001b[0m \u001b[0;34m=\u001b[0m \u001b[0mself\u001b[0m\u001b[0;34m.\u001b[0m\u001b[0m_slow_forward\u001b[0m\u001b[0;34m(\u001b[0m\u001b[0;34m*\u001b[0m\u001b[0minput\u001b[0m\u001b[0;34m,\u001b[0m \u001b[0;34m**\u001b[0m\u001b[0mkwargs\u001b[0m\u001b[0;34m)\u001b[0m\u001b[0;34m\u001b[0m\u001b[0;34m\u001b[0m\u001b[0m\n\u001b[1;32m    492\u001b[0m         \u001b[0;32melse\u001b[0m\u001b[0;34m:\u001b[0m\u001b[0;34m\u001b[0m\u001b[0;34m\u001b[0m\u001b[0m\n\u001b[0;32m--> 493\u001b[0;31m             \u001b[0mresult\u001b[0m \u001b[0;34m=\u001b[0m \u001b[0mself\u001b[0m\u001b[0;34m.\u001b[0m\u001b[0mforward\u001b[0m\u001b[0;34m(\u001b[0m\u001b[0;34m*\u001b[0m\u001b[0minput\u001b[0m\u001b[0;34m,\u001b[0m \u001b[0;34m**\u001b[0m\u001b[0mkwargs\u001b[0m\u001b[0;34m)\u001b[0m\u001b[0;34m\u001b[0m\u001b[0;34m\u001b[0m\u001b[0m\n\u001b[0m\u001b[1;32m    494\u001b[0m         \u001b[0;32mfor\u001b[0m \u001b[0mhook\u001b[0m \u001b[0;32min\u001b[0m \u001b[0mself\u001b[0m\u001b[0;34m.\u001b[0m\u001b[0m_forward_hooks\u001b[0m\u001b[0;34m.\u001b[0m\u001b[0mvalues\u001b[0m\u001b[0;34m(\u001b[0m\u001b[0;34m)\u001b[0m\u001b[0;34m:\u001b[0m\u001b[0;34m\u001b[0m\u001b[0;34m\u001b[0m\u001b[0m\n\u001b[1;32m    495\u001b[0m             \u001b[0mhook_result\u001b[0m \u001b[0;34m=\u001b[0m \u001b[0mhook\u001b[0m\u001b[0;34m(\u001b[0m\u001b[0mself\u001b[0m\u001b[0;34m,\u001b[0m \u001b[0minput\u001b[0m\u001b[0;34m,\u001b[0m \u001b[0mresult\u001b[0m\u001b[0;34m)\u001b[0m\u001b[0;34m\u001b[0m\u001b[0;34m\u001b[0m\u001b[0m\n",
      "\u001b[0;32m~/SDGym/synthetic_data_benchmark/synthesizer/tablegan_synthesizer.py\u001b[0m in \u001b[0;36mforward\u001b[0;34m(self, input)\u001b[0m\n\u001b[1;32m    101\u001b[0m         \u001b[0mlabel\u001b[0m \u001b[0;34m=\u001b[0m \u001b[0;34m(\u001b[0m\u001b[0minput\u001b[0m\u001b[0;34m[\u001b[0m\u001b[0;34m:\u001b[0m\u001b[0;34m,\u001b[0m \u001b[0;34m:\u001b[0m\u001b[0;34m,\u001b[0m \u001b[0mself\u001b[0m\u001b[0;34m.\u001b[0m\u001b[0mr\u001b[0m\u001b[0;34m,\u001b[0m \u001b[0mself\u001b[0m\u001b[0;34m.\u001b[0m\u001b[0mc\u001b[0m\u001b[0;34m]\u001b[0m\u001b[0;34m.\u001b[0m\u001b[0mview\u001b[0m\u001b[0;34m(\u001b[0m\u001b[0;34m-\u001b[0m\u001b[0;36m1\u001b[0m\u001b[0;34m)\u001b[0m \u001b[0;34m+\u001b[0m \u001b[0;36m1\u001b[0m\u001b[0;34m)\u001b[0m \u001b[0;34m/\u001b[0m \u001b[0;36m2\u001b[0m\u001b[0;34m\u001b[0m\u001b[0;34m\u001b[0m\u001b[0m\n\u001b[1;32m    102\u001b[0m         \u001b[0minput\u001b[0m \u001b[0;34m=\u001b[0m \u001b[0minput\u001b[0m \u001b[0;34m*\u001b[0m \u001b[0mself\u001b[0m\u001b[0;34m.\u001b[0m\u001b[0mmasking\u001b[0m\u001b[0;34m.\u001b[0m\u001b[0mexpand\u001b[0m\u001b[0;34m(\u001b[0m\u001b[0minput\u001b[0m\u001b[0;34m.\u001b[0m\u001b[0msize\u001b[0m\u001b[0;34m(\u001b[0m\u001b[0;34m)\u001b[0m\u001b[0;34m)\u001b[0m\u001b[0;34m\u001b[0m\u001b[0;34m\u001b[0m\u001b[0m\n\u001b[0;32m--> 103\u001b[0;31m         \u001b[0;32mreturn\u001b[0m \u001b[0mself\u001b[0m\u001b[0;34m.\u001b[0m\u001b[0mseq\u001b[0m\u001b[0;34m(\u001b[0m\u001b[0minput\u001b[0m\u001b[0;34m)\u001b[0m\u001b[0;34m.\u001b[0m\u001b[0mview\u001b[0m\u001b[0;34m(\u001b[0m\u001b[0;34m-\u001b[0m\u001b[0;36m1\u001b[0m\u001b[0;34m)\u001b[0m\u001b[0;34m,\u001b[0m \u001b[0mlabel\u001b[0m\u001b[0;34m\u001b[0m\u001b[0;34m\u001b[0m\u001b[0m\n\u001b[0m\u001b[1;32m    104\u001b[0m \u001b[0;34m\u001b[0m\u001b[0m\n\u001b[1;32m    105\u001b[0m \u001b[0;34m\u001b[0m\u001b[0m\n",
      "\u001b[0;32m~/anaconda3/envs/torch/lib/python3.6/site-packages/torch/nn/modules/module.py\u001b[0m in \u001b[0;36m__call__\u001b[0;34m(self, *input, **kwargs)\u001b[0m\n\u001b[1;32m    491\u001b[0m             \u001b[0mresult\u001b[0m \u001b[0;34m=\u001b[0m \u001b[0mself\u001b[0m\u001b[0;34m.\u001b[0m\u001b[0m_slow_forward\u001b[0m\u001b[0;34m(\u001b[0m\u001b[0;34m*\u001b[0m\u001b[0minput\u001b[0m\u001b[0;34m,\u001b[0m \u001b[0;34m**\u001b[0m\u001b[0mkwargs\u001b[0m\u001b[0;34m)\u001b[0m\u001b[0;34m\u001b[0m\u001b[0;34m\u001b[0m\u001b[0m\n\u001b[1;32m    492\u001b[0m         \u001b[0;32melse\u001b[0m\u001b[0;34m:\u001b[0m\u001b[0;34m\u001b[0m\u001b[0;34m\u001b[0m\u001b[0m\n\u001b[0;32m--> 493\u001b[0;31m             \u001b[0mresult\u001b[0m \u001b[0;34m=\u001b[0m \u001b[0mself\u001b[0m\u001b[0;34m.\u001b[0m\u001b[0mforward\u001b[0m\u001b[0;34m(\u001b[0m\u001b[0;34m*\u001b[0m\u001b[0minput\u001b[0m\u001b[0;34m,\u001b[0m \u001b[0;34m**\u001b[0m\u001b[0mkwargs\u001b[0m\u001b[0;34m)\u001b[0m\u001b[0;34m\u001b[0m\u001b[0;34m\u001b[0m\u001b[0m\n\u001b[0m\u001b[1;32m    494\u001b[0m         \u001b[0;32mfor\u001b[0m \u001b[0mhook\u001b[0m \u001b[0;32min\u001b[0m \u001b[0mself\u001b[0m\u001b[0;34m.\u001b[0m\u001b[0m_forward_hooks\u001b[0m\u001b[0;34m.\u001b[0m\u001b[0mvalues\u001b[0m\u001b[0;34m(\u001b[0m\u001b[0;34m)\u001b[0m\u001b[0;34m:\u001b[0m\u001b[0;34m\u001b[0m\u001b[0;34m\u001b[0m\u001b[0m\n\u001b[1;32m    495\u001b[0m             \u001b[0mhook_result\u001b[0m \u001b[0;34m=\u001b[0m \u001b[0mhook\u001b[0m\u001b[0;34m(\u001b[0m\u001b[0mself\u001b[0m\u001b[0;34m,\u001b[0m \u001b[0minput\u001b[0m\u001b[0;34m,\u001b[0m \u001b[0mresult\u001b[0m\u001b[0;34m)\u001b[0m\u001b[0;34m\u001b[0m\u001b[0;34m\u001b[0m\u001b[0m\n",
      "\u001b[0;32m~/anaconda3/envs/torch/lib/python3.6/site-packages/torch/nn/modules/container.py\u001b[0m in \u001b[0;36mforward\u001b[0;34m(self, input)\u001b[0m\n\u001b[1;32m     90\u001b[0m     \u001b[0;32mdef\u001b[0m \u001b[0mforward\u001b[0m\u001b[0;34m(\u001b[0m\u001b[0mself\u001b[0m\u001b[0;34m,\u001b[0m \u001b[0minput\u001b[0m\u001b[0;34m)\u001b[0m\u001b[0;34m:\u001b[0m\u001b[0;34m\u001b[0m\u001b[0;34m\u001b[0m\u001b[0m\n\u001b[1;32m     91\u001b[0m         \u001b[0;32mfor\u001b[0m \u001b[0mmodule\u001b[0m \u001b[0;32min\u001b[0m \u001b[0mself\u001b[0m\u001b[0;34m.\u001b[0m\u001b[0m_modules\u001b[0m\u001b[0;34m.\u001b[0m\u001b[0mvalues\u001b[0m\u001b[0;34m(\u001b[0m\u001b[0;34m)\u001b[0m\u001b[0;34m:\u001b[0m\u001b[0;34m\u001b[0m\u001b[0;34m\u001b[0m\u001b[0m\n\u001b[0;32m---> 92\u001b[0;31m             \u001b[0minput\u001b[0m \u001b[0;34m=\u001b[0m \u001b[0mmodule\u001b[0m\u001b[0;34m(\u001b[0m\u001b[0minput\u001b[0m\u001b[0;34m)\u001b[0m\u001b[0;34m\u001b[0m\u001b[0;34m\u001b[0m\u001b[0m\n\u001b[0m\u001b[1;32m     93\u001b[0m         \u001b[0;32mreturn\u001b[0m \u001b[0minput\u001b[0m\u001b[0;34m\u001b[0m\u001b[0;34m\u001b[0m\u001b[0m\n\u001b[1;32m     94\u001b[0m \u001b[0;34m\u001b[0m\u001b[0m\n",
      "\u001b[0;32m~/anaconda3/envs/torch/lib/python3.6/site-packages/torch/nn/modules/module.py\u001b[0m in \u001b[0;36m__call__\u001b[0;34m(self, *input, **kwargs)\u001b[0m\n\u001b[1;32m    491\u001b[0m             \u001b[0mresult\u001b[0m \u001b[0;34m=\u001b[0m \u001b[0mself\u001b[0m\u001b[0;34m.\u001b[0m\u001b[0m_slow_forward\u001b[0m\u001b[0;34m(\u001b[0m\u001b[0;34m*\u001b[0m\u001b[0minput\u001b[0m\u001b[0;34m,\u001b[0m \u001b[0;34m**\u001b[0m\u001b[0mkwargs\u001b[0m\u001b[0;34m)\u001b[0m\u001b[0;34m\u001b[0m\u001b[0;34m\u001b[0m\u001b[0m\n\u001b[1;32m    492\u001b[0m         \u001b[0;32melse\u001b[0m\u001b[0;34m:\u001b[0m\u001b[0;34m\u001b[0m\u001b[0;34m\u001b[0m\u001b[0m\n\u001b[0;32m--> 493\u001b[0;31m             \u001b[0mresult\u001b[0m \u001b[0;34m=\u001b[0m \u001b[0mself\u001b[0m\u001b[0;34m.\u001b[0m\u001b[0mforward\u001b[0m\u001b[0;34m(\u001b[0m\u001b[0;34m*\u001b[0m\u001b[0minput\u001b[0m\u001b[0;34m,\u001b[0m \u001b[0;34m**\u001b[0m\u001b[0mkwargs\u001b[0m\u001b[0;34m)\u001b[0m\u001b[0;34m\u001b[0m\u001b[0;34m\u001b[0m\u001b[0m\n\u001b[0m\u001b[1;32m    494\u001b[0m         \u001b[0;32mfor\u001b[0m \u001b[0mhook\u001b[0m \u001b[0;32min\u001b[0m \u001b[0mself\u001b[0m\u001b[0;34m.\u001b[0m\u001b[0m_forward_hooks\u001b[0m\u001b[0;34m.\u001b[0m\u001b[0mvalues\u001b[0m\u001b[0;34m(\u001b[0m\u001b[0;34m)\u001b[0m\u001b[0;34m:\u001b[0m\u001b[0;34m\u001b[0m\u001b[0;34m\u001b[0m\u001b[0m\n\u001b[1;32m    495\u001b[0m             \u001b[0mhook_result\u001b[0m \u001b[0;34m=\u001b[0m \u001b[0mhook\u001b[0m\u001b[0;34m(\u001b[0m\u001b[0mself\u001b[0m\u001b[0;34m,\u001b[0m \u001b[0minput\u001b[0m\u001b[0;34m,\u001b[0m \u001b[0mresult\u001b[0m\u001b[0;34m)\u001b[0m\u001b[0;34m\u001b[0m\u001b[0;34m\u001b[0m\u001b[0m\n",
      "\u001b[0;32m~/anaconda3/envs/torch/lib/python3.6/site-packages/torch/nn/modules/batchnorm.py\u001b[0m in \u001b[0;36mforward\u001b[0;34m(self, input)\u001b[0m\n\u001b[1;32m     72\u001b[0m             \u001b[0;31m# TODO: if statement only here to tell the jit to skip emitting this when it is None\u001b[0m\u001b[0;34m\u001b[0m\u001b[0;34m\u001b[0m\u001b[0;34m\u001b[0m\u001b[0m\n\u001b[1;32m     73\u001b[0m             \u001b[0;32mif\u001b[0m \u001b[0mself\u001b[0m\u001b[0;34m.\u001b[0m\u001b[0mnum_batches_tracked\u001b[0m \u001b[0;32mis\u001b[0m \u001b[0;32mnot\u001b[0m \u001b[0;32mNone\u001b[0m\u001b[0;34m:\u001b[0m\u001b[0;34m\u001b[0m\u001b[0;34m\u001b[0m\u001b[0m\n\u001b[0;32m---> 74\u001b[0;31m                 \u001b[0mself\u001b[0m\u001b[0;34m.\u001b[0m\u001b[0mnum_batches_tracked\u001b[0m \u001b[0;34m+=\u001b[0m \u001b[0;36m1\u001b[0m\u001b[0;34m\u001b[0m\u001b[0;34m\u001b[0m\u001b[0m\n\u001b[0m\u001b[1;32m     75\u001b[0m                 \u001b[0;32mif\u001b[0m \u001b[0mself\u001b[0m\u001b[0;34m.\u001b[0m\u001b[0mmomentum\u001b[0m \u001b[0;32mis\u001b[0m \u001b[0;32mNone\u001b[0m\u001b[0;34m:\u001b[0m  \u001b[0;31m# use cumulative moving average\u001b[0m\u001b[0;34m\u001b[0m\u001b[0;34m\u001b[0m\u001b[0m\n\u001b[1;32m     76\u001b[0m                     \u001b[0mexponential_average_factor\u001b[0m \u001b[0;34m=\u001b[0m \u001b[0;36m1.0\u001b[0m \u001b[0;34m/\u001b[0m \u001b[0mfloat\u001b[0m\u001b[0;34m(\u001b[0m\u001b[0mself\u001b[0m\u001b[0;34m.\u001b[0m\u001b[0mnum_batches_tracked\u001b[0m\u001b[0;34m)\u001b[0m\u001b[0;34m\u001b[0m\u001b[0;34m\u001b[0m\u001b[0m\n",
      "\u001b[0;31mKeyboardInterrupt\u001b[0m: "
     ]
    }
   ],
   "source": [
    "# cometml_key=config['comet_ml']['api_key']\n",
    "synthesizer.train(data.values)"
   ]
  },
  {
   "cell_type": "code",
   "execution_count": 10,
   "metadata": {},
   "outputs": [
    {
     "ename": "AttributeError",
     "evalue": "'TGANSynthesizer' object has no attribute 'generator'",
     "output_type": "error",
     "traceback": [
      "\u001b[0;31m---------------------------------------------------------------------------\u001b[0m",
      "\u001b[0;31mAttributeError\u001b[0m                            Traceback (most recent call last)",
      "\u001b[0;32m<ipython-input-10-862096376a1d>\u001b[0m in \u001b[0;36m<module>\u001b[0;34m\u001b[0m\n\u001b[0;32m----> 1\u001b[0;31m \u001b[0;32mfor\u001b[0m \u001b[0mi\u001b[0m\u001b[0;34m,\u001b[0m \u001b[0my\u001b[0m \u001b[0;32min\u001b[0m \u001b[0msynthesizer\u001b[0m\u001b[0;34m.\u001b[0m\u001b[0mgenerator\u001b[0m\u001b[0;34m.\u001b[0m\u001b[0mnamed_parameters\u001b[0m\u001b[0;34m(\u001b[0m\u001b[0;34m)\u001b[0m\u001b[0;34m:\u001b[0m\u001b[0;34m\u001b[0m\u001b[0;34m\u001b[0m\u001b[0m\n\u001b[0m\u001b[1;32m      2\u001b[0m     \u001b[0mprint\u001b[0m\u001b[0;34m(\u001b[0m\u001b[0mi\u001b[0m\u001b[0;34m,\u001b[0m \u001b[0my\u001b[0m\u001b[0;34m)\u001b[0m\u001b[0;34m\u001b[0m\u001b[0;34m\u001b[0m\u001b[0m\n",
      "\u001b[0;31mAttributeError\u001b[0m: 'TGANSynthesizer' object has no attribute 'generator'"
     ]
    }
   ],
   "source": [
    "for i, y in synthesizer.generator.named_parameters():\n",
    "    print(i, y)"
   ]
  },
  {
   "cell_type": "code",
   "execution_count": 220,
   "metadata": {},
   "outputs": [],
   "source": [
    "act_means = [[] for _ in synthesizer.generator.seq]\n",
    "act_stds  = [[] for _ in synthesizer.generator.seq]"
   ]
  },
  {
   "cell_type": "code",
   "execution_count": 195,
   "metadata": {},
   "outputs": [],
   "source": [
    "def append_stats(i):\n",
    "    def hook(mod, inp, outp):\n",
    "        act_means[i].append(outp.data.mean())\n",
    "        act_stds [i].append(outp.data.std())\n",
    "    return hook"
   ]
  },
  {
   "cell_type": "code",
   "execution_count": 196,
   "metadata": {},
   "outputs": [],
   "source": [
    "from functools import partial\n",
    "for i, m in enumerate(synthesizer.generator.seq): m.register_forward_hook(append_stats(i))\n"
   ]
  },
  {
   "cell_type": "code",
   "execution_count": 199,
   "metadata": {},
   "outputs": [
    {
     "data": {
      "text/plain": [
       "[[tensor(nan, device='cuda:0'),\n",
       "  tensor(nan, device='cuda:0'),\n",
       "  tensor(nan, device='cuda:0')],\n",
       " [tensor(nan, device='cuda:0'),\n",
       "  tensor(nan, device='cuda:0'),\n",
       "  tensor(nan, device='cuda:0')],\n",
       " [tensor(nan, device='cuda:0'),\n",
       "  tensor(nan, device='cuda:0'),\n",
       "  tensor(nan, device='cuda:0')]]"
      ]
     },
     "execution_count": 199,
     "metadata": {},
     "output_type": "execute_result"
    }
   ],
   "source": [
    "act_means"
   ]
  },
  {
   "cell_type": "code",
   "execution_count": 198,
   "metadata": {},
   "outputs": [
    {
     "data": {
      "image/png": "[encoded data removed]",
      "text/plain": [
       "<Figure size 432x288 with 1 Axes>"
      ]
     },
     "metadata": {
      "needs_background": "light"
     },
     "output_type": "display_data"
    }
   ],
   "source": [
    "import matplotlib.pyplot as plt\n",
    "for l in act_means: plt.plot(l)\n"
   ]
  },
  {
   "cell_type": "code",
   "execution_count": 197,
   "metadata": {},
   "outputs": [],
   "source": [
    "n = 1000\n",
    "generated = synthesizer.generate(n)\n"
   ]
  },
  {
   "cell_type": "code",
   "execution_count": 174,
   "metadata": {},
   "outputs": [
    {
     "data": {
      "text/html": [
       "<div>\n",
       "<style scoped>\n",
       "    .dataframe tbody tr th:only-of-type {\n",
       "        vertical-align: middle;\n",
       "    }\n",
       "\n",
       "    .dataframe tbody tr th {\n",
       "        vertical-align: top;\n",
       "    }\n",
       "\n",
       "    .dataframe thead th {\n",
       "        text-align: right;\n",
       "    }\n",
       "</style>\n",
       "<table border=\"1\" class=\"dataframe\">\n",
       "  <thead>\n",
       "    <tr style=\"text-align: right;\">\n",
       "      <th></th>\n",
       "      <th>account_id</th>\n",
       "      <th>trans_amount</th>\n",
       "      <th>balance_after_trans</th>\n",
       "      <th>trans_type</th>\n",
       "      <th>trans_operation</th>\n",
       "      <th>trans_date</th>\n",
       "    </tr>\n",
       "  </thead>\n",
       "  <tbody>\n",
       "    <tr>\n",
       "      <th>0</th>\n",
       "      <td>215.900912</td>\n",
       "      <td>20486.589735</td>\n",
       "      <td>25186.654534</td>\n",
       "      <td>0.0</td>\n",
       "      <td>3.0</td>\n",
       "      <td>189.0</td>\n",
       "    </tr>\n",
       "    <tr>\n",
       "      <th>1</th>\n",
       "      <td>21.312649</td>\n",
       "      <td>-477.730918</td>\n",
       "      <td>22048.833255</td>\n",
       "      <td>0.0</td>\n",
       "      <td>2.0</td>\n",
       "      <td>101.0</td>\n",
       "    </tr>\n",
       "    <tr>\n",
       "      <th>2</th>\n",
       "      <td>69.479179</td>\n",
       "      <td>31020.134045</td>\n",
       "      <td>24513.288084</td>\n",
       "      <td>0.0</td>\n",
       "      <td>1.0</td>\n",
       "      <td>201.0</td>\n",
       "    </tr>\n",
       "    <tr>\n",
       "      <th>3</th>\n",
       "      <td>150.171570</td>\n",
       "      <td>8227.723997</td>\n",
       "      <td>36425.347746</td>\n",
       "      <td>2.0</td>\n",
       "      <td>0.0</td>\n",
       "      <td>187.0</td>\n",
       "    </tr>\n",
       "    <tr>\n",
       "      <th>4</th>\n",
       "      <td>160.459434</td>\n",
       "      <td>711.122546</td>\n",
       "      <td>45111.946315</td>\n",
       "      <td>0.0</td>\n",
       "      <td>5.0</td>\n",
       "      <td>73.0</td>\n",
       "    </tr>\n",
       "  </tbody>\n",
       "</table>\n",
       "</div>"
      ],
      "text/plain": [
       "   account_id  trans_amount  balance_after_trans  trans_type  trans_operation  \\\n",
       "0  215.900912  20486.589735         25186.654534         0.0              3.0   \n",
       "1   21.312649   -477.730918         22048.833255         0.0              2.0   \n",
       "2   69.479179  31020.134045         24513.288084         0.0              1.0   \n",
       "3  150.171570   8227.723997         36425.347746         2.0              0.0   \n",
       "4  160.459434    711.122546         45111.946315         0.0              5.0   \n",
       "\n",
       "   trans_date  \n",
       "0       189.0  \n",
       "1       101.0  \n",
       "2       201.0  \n",
       "3       187.0  \n",
       "4        73.0  "
      ]
     },
     "execution_count": 174,
     "metadata": {},
     "output_type": "execute_result"
    }
   ],
   "source": [
    "z = pd.DataFrame(generated[0][1])\n",
    "z.columns = data.columns\n",
    "z.head()"
   ]
  },
  {
   "cell_type": "code",
   "execution_count": null,
   "metadata": {},
   "outputs": [],
   "source": [
    "sample = min(args.sample, data.shape[0])\n",
    "generated = synthesizer.generate(sample)"
   ]
  },
  {
   "cell_type": "code",
   "execution_count": 8,
   "metadata": {},
   "outputs": [
    {
     "data": {
      "text/html": [
       "<div>\n",
       "<style scoped>\n",
       "    .dataframe tbody tr th:only-of-type {\n",
       "        vertical-align: middle;\n",
       "    }\n",
       "\n",
       "    .dataframe tbody tr th {\n",
       "        vertical-align: top;\n",
       "    }\n",
       "\n",
       "    .dataframe thead th {\n",
       "        text-align: right;\n",
       "    }\n",
       "</style>\n",
       "<table border=\"1\" class=\"dataframe\">\n",
       "  <thead>\n",
       "    <tr style=\"text-align: right;\">\n",
       "      <th></th>\n",
       "      <th>account_id</th>\n",
       "      <th>trans_amount</th>\n",
       "      <th>balance_after_trans</th>\n",
       "      <th>trans_type</th>\n",
       "      <th>trans_operation</th>\n",
       "      <th>trans_date</th>\n",
       "    </tr>\n",
       "  </thead>\n",
       "  <tbody>\n",
       "    <tr>\n",
       "      <th>0</th>\n",
       "      <td>0</td>\n",
       "      <td>700.0</td>\n",
       "      <td>700.0</td>\n",
       "      <td>0</td>\n",
       "      <td>0</td>\n",
       "      <td>0</td>\n",
       "    </tr>\n",
       "    <tr>\n",
       "      <th>1</th>\n",
       "      <td>1</td>\n",
       "      <td>900.0</td>\n",
       "      <td>900.0</td>\n",
       "      <td>0</td>\n",
       "      <td>0</td>\n",
       "      <td>0</td>\n",
       "    </tr>\n",
       "    <tr>\n",
       "      <th>2</th>\n",
       "      <td>2</td>\n",
       "      <td>1000.0</td>\n",
       "      <td>1000.0</td>\n",
       "      <td>0</td>\n",
       "      <td>0</td>\n",
       "      <td>0</td>\n",
       "    </tr>\n",
       "    <tr>\n",
       "      <th>3</th>\n",
       "      <td>3</td>\n",
       "      <td>600.0</td>\n",
       "      <td>600.0</td>\n",
       "      <td>0</td>\n",
       "      <td>0</td>\n",
       "      <td>0</td>\n",
       "    </tr>\n",
       "    <tr>\n",
       "      <th>4</th>\n",
       "      <td>4</td>\n",
       "      <td>400.0</td>\n",
       "      <td>400.0</td>\n",
       "      <td>0</td>\n",
       "      <td>0</td>\n",
       "      <td>1</td>\n",
       "    </tr>\n",
       "  </tbody>\n",
       "</table>\n",
       "</div>"
      ],
      "text/plain": [
       "   account_id  trans_amount  balance_after_trans  trans_type  trans_operation  \\\n",
       "0           0         700.0                700.0           0                0   \n",
       "1           1         900.0                900.0           0                0   \n",
       "2           2        1000.0               1000.0           0                0   \n",
       "3           3         600.0                600.0           0                0   \n",
       "4           4         400.0                400.0           0                0   \n",
       "\n",
       "   trans_date  \n",
       "0           0  \n",
       "1           0  \n",
       "2           0  \n",
       "3           0  \n",
       "4           1  "
      ]
     },
     "execution_count": 8,
     "metadata": {},
     "output_type": "execute_result"
    }
   ],
   "source": [
    "b = pd.read_csv('../data/berka/berka.csv', sep=';')\n",
    "b.head()"
   ]
  },
  {
   "cell_type": "code",
   "execution_count": 10,
   "metadata": {},
   "outputs": [
    {
     "name": "stdout",
     "output_type": "stream",
     "text": [
      "0 4499\n",
      "0.0 87400.0\n",
      "-41125.7 209637.0\n",
      "0 2\n",
      "0 5\n",
      "0 2190\n"
     ]
    }
   ],
   "source": [
    "for col in b._get_numeric_data().columns:\n",
    "    print(b[col].min(), b[col].max())"
   ]
  },
  {
   "cell_type": "code",
   "execution_count": 175,
   "metadata": {},
   "outputs": [],
   "source": [
    "import pickle\n",
    "subs = pickle.load(open('../data/berka/subs.pkl', 'rb'))"
   ]
  },
  {
   "cell_type": "code",
   "execution_count": 176,
   "metadata": {},
   "outputs": [
    {
     "data": {
      "text/plain": [
       "dict_keys(['trans_operation', 'account_id', 'trans_type'])"
      ]
     },
     "execution_count": 176,
     "metadata": {},
     "output_type": "execute_result"
    }
   ],
   "source": [
    "subs.keys()"
   ]
  },
  {
   "cell_type": "code",
   "execution_count": null,
   "metadata": {},
   "outputs": [],
   "source": []
  }
 ],
 "metadata": {
  "kernelspec": {
   "display_name": "torch (3.6.7)",
   "language": "python",
   "name": "torch"
  },
  "language_info": {
   "codemirror_mode": {
    "name": "ipython",
    "version": 3
   },
   "file_extension": ".py",
   "mimetype": "text/x-python",
   "name": "python",
   "nbconvert_exporter": "python",
   "pygments_lexer": "ipython3",
   "version": "3.6.7"
  }
 },
 "nbformat": 4,
 "nbformat_minor": 2
}
