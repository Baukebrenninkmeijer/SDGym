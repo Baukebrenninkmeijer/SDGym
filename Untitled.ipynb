{
 "cells": [
  {
   "cell_type": "code",
   "execution_count": 1,
   "metadata": {},
   "outputs": [],
   "source": [
    "%load_ext autoreload\n",
    "%autoreload 2"
   ]
  },
  {
   "cell_type": "code",
   "execution_count": 51,
   "metadata": {},
   "outputs": [],
   "source": [
    "d = pd.read_csv('../data/creditcard/creditcard_num.csv')\n"
   ]
  },
  {
   "cell_type": "code",
   "execution_count": 48,
   "metadata": {},
   "outputs": [],
   "source": [
    "e = pd.read_csv('../data/creditcard/creditcard.csv', sep=';')"
   ]
  },
  {
   "cell_type": "code",
   "execution_count": 52,
   "metadata": {},
   "outputs": [
    {
     "data": {
      "text/plain": [
       "Index(['Time', 'V1', 'V2', 'V3', 'V4', 'V5', 'V6', 'V7', 'V8', 'V9', 'V10',\n",
       "       'V11', 'V12', 'V13', 'V14', 'V15', 'V16', 'V17', 'V18', 'V19', 'V20',\n",
       "       'V21', 'V22', 'V23', 'V24', 'V25', 'V26', 'V27', 'V28', 'Amount',\n",
       "       'Class'],\n",
       "      dtype='object')"
      ]
     },
     "execution_count": 52,
     "metadata": {},
     "output_type": "execute_result"
    }
   ],
   "source": [
    "d.columns"
   ]
  },
  {
   "cell_type": "code",
   "execution_count": 50,
   "metadata": {},
   "outputs": [
    {
     "data": {
      "text/plain": [
       "Index(['Time', 'V1', 'V2', 'V3', 'V4', 'V5', 'V6', 'V7', 'V8', 'V9', 'V10',\n",
       "       'V11', 'V12', 'V13', 'V14', 'V15', 'V16', 'V17', 'V18', 'V19', 'V20',\n",
       "       'V21', 'V22', 'V23', 'V24', 'V25', 'V26', 'V27', 'V28', 'Amount'],\n",
       "      dtype='object')"
      ]
     },
     "execution_count": 50,
     "metadata": {},
     "output_type": "execute_result"
    }
   ],
   "source": [
    "e.columns"
   ]
  },
  {
   "cell_type": "code",
   "execution_count": 40,
   "metadata": {},
   "outputs": [],
   "source": [
    "from sdgym.synthesizers.tgan import *\n",
    "from sdgym.synthesizers.tablegan import *\n",
    "from sdgym.synthesizers.medgan import *\n",
    "\n",
    "# from synthetic_data_benchmark.synthesizer.tgan_synthesizer import *\n",
    "# from synthetic_data_benchmark.synthesizer.tablegan_synthesizer import *\n",
    "\n",
    "import pandas as pd\n",
    "import numpy as np\n",
    "import json\n",
    "from tqdm.auto import tqdm\n",
    "\n",
    "import configparser\n",
    "config = configparser.ConfigParser()\n",
    "config.read('config.ini')\n",
    "\n",
    "output = 'samples/test'\n",
    "dataset = 'berka'\n",
    "working_dir = \"{}/ckpt_{}\".format(output, dataset)\n",
    "\n",
    "# data = pd.read_csv('../data/berka/berka.csv', sep=';')[:1000000]\n",
    "data = pd.read_csv('../data/berka/berka_sdgym.csv')\n",
    "\n",
    "# import pickle\n",
    "# subs = pickle.load(open('../data/berka/subs.pkl', 'rb'))\n",
    "\n",
    "# meta = [\n",
    "#     {\n",
    "#     'name': 'account_id',\n",
    "#     'type': 'continuous',\n",
    "#     'min': data.account_id.min(),\n",
    "#     'max': data.account_id.max()\n",
    "#     },\n",
    "# #     {\n",
    "# #     'name': 'account_id',\n",
    "# #     'type': 'categorical',\n",
    "# #     'size': len(data.account_id.unique().tolist()),\n",
    "# #     'i2s': subs['account_id']['label'].values.tolist()\n",
    "# #     },\n",
    "#     {\n",
    "#     'name': 'trans_amount',\n",
    "#     'type': 'continuous',\n",
    "#     'min': data.trans_amount.min(),\n",
    "#     'max': data.trans_amount.max()   \n",
    "#     },\n",
    "#     {\n",
    "#     'name': 'balance_after_trans',\n",
    "#     'type': 'continuous',\n",
    "#     'min': data.balance_after_trans.min(),\n",
    "#     'max': data.balance_after_trans.max()    \n",
    "#     },\n",
    "#     {\n",
    "#     'name': 'trans_type',\n",
    "#     'type': 'categorical',\n",
    "#     'size': 3,\n",
    "#     'i2s': ['CREDIT', 'WITHDRAWAL', 'UNKNOWN']    \n",
    "#     },\n",
    "#     {\n",
    "#     'name': 'trans_operation',\n",
    "#     'type': 'categorical',\n",
    "#     'size': 6,\n",
    "#     'i2s': subs['trans_operation']['label'].values.tolist()    \n",
    "#     },\n",
    "# #     {\n",
    "# #     'name': 'trans_date',\n",
    "# #     'type': 'ordinal',\n",
    "# #     'size': len(data.trans_date.unique().tolist()),\n",
    "# #     'i2s': list(range(data.trans_date.max()))    \n",
    "# #     },\n",
    "#     {\n",
    "#     'name': 'trans_date',\n",
    "#     'type': 'continuous',\n",
    "#     'size': data.trans_date.min(),\n",
    "#     'i2s': data.trans_date.max()    \n",
    "#     },\n",
    "# ]\n",
    "\n",
    "meta = json.load(open('data/real/berka.json', 'r'))\n",
    "\n",
    "synthesizer = TableganSynthesizer(store_epoch=[100])\n",
    "# synthesizer = MedganSynthesizer(store_epoch=[100], pretrain_epoch=5)\n",
    "synthesizer.init(meta, working_dir)\n"
   ]
  },
  {
   "cell_type": "code",
   "execution_count": 41,
   "metadata": {},
   "outputs": [
    {
     "name": "stdout",
     "output_type": "stream",
     "text": [
      "epoch 1 step 10 tensor(1.2224, device='cuda:0', grad_fn=<SubBackward0>) tensor(0.7921, device='cuda:0', grad_fn=<NegBackward>) None\n",
      "epoch 1 step 20 tensor(1.1427, device='cuda:0', grad_fn=<SubBackward0>) tensor(0.7943, device='cuda:0', grad_fn=<NegBackward>) None\n",
      "epoch 1 step 30 tensor(1.0920, device='cuda:0', grad_fn=<SubBackward0>) tensor(0.8078, device='cuda:0', grad_fn=<NegBackward>) None\n",
      "epoch 1 step 40 tensor(1.0538, device='cuda:0', grad_fn=<SubBackward0>) tensor(0.8678, device='cuda:0', grad_fn=<NegBackward>) None\n",
      "epoch 1 step 50 tensor(1.0639, device='cuda:0', grad_fn=<SubBackward0>) tensor(0.8692, device='cuda:0', grad_fn=<NegBackward>) None\n",
      "epoch 1 step 60 tensor(1.1084, device='cuda:0', grad_fn=<SubBackward0>) tensor(0.8595, device='cuda:0', grad_fn=<NegBackward>) None\n",
      "epoch 1 step 70 tensor(1.1416, device='cuda:0', grad_fn=<SubBackward0>) tensor(0.8687, device='cuda:0', grad_fn=<NegBackward>) None\n",
      "epoch 1 step 80 tensor(1.1449, device='cuda:0', grad_fn=<SubBackward0>) tensor(0.8450, device='cuda:0', grad_fn=<NegBackward>) None\n",
      "epoch 1 step 90 tensor(1.1593, device='cuda:0', grad_fn=<SubBackward0>) tensor(0.8228, device='cuda:0', grad_fn=<NegBackward>) None\n",
      "epoch 1 step 100 tensor(1.1832, device='cuda:0', grad_fn=<SubBackward0>) tensor(0.8327, device='cuda:0', grad_fn=<NegBackward>) None\n",
      "epoch 1 step 110 tensor(1.1373, device='cuda:0', grad_fn=<SubBackward0>) tensor(0.8586, device='cuda:0', grad_fn=<NegBackward>) None\n",
      "epoch 1 step 120 tensor(1.1332, device='cuda:0', grad_fn=<SubBackward0>) tensor(0.8826, device='cuda:0', grad_fn=<NegBackward>) None\n",
      "epoch 1 step 130 tensor(1.1351, device='cuda:0', grad_fn=<SubBackward0>) tensor(0.8996, device='cuda:0', grad_fn=<NegBackward>) None\n",
      "epoch 1 step 140 tensor(1.0827, device='cuda:0', grad_fn=<SubBackward0>) tensor(0.8867, device='cuda:0', grad_fn=<NegBackward>) None\n",
      "epoch 1 step 150 tensor(1.0832, device='cuda:0', grad_fn=<SubBackward0>) tensor(0.8816, device='cuda:0', grad_fn=<NegBackward>) None\n",
      "epoch 1 step 160 tensor(1.0586, device='cuda:0', grad_fn=<SubBackward0>) tensor(0.8937, device='cuda:0', grad_fn=<NegBackward>) None\n",
      "epoch 1 step 170 tensor(1.0371, device='cuda:0', grad_fn=<SubBackward0>) tensor(0.9431, device='cuda:0', grad_fn=<NegBackward>) None\n",
      "epoch 1 step 180 tensor(1.0621, device='cuda:0', grad_fn=<SubBackward0>) tensor(0.9449, device='cuda:0', grad_fn=<NegBackward>) None\n",
      "epoch 1 step 190 tensor(1.0392, device='cuda:0', grad_fn=<SubBackward0>) tensor(0.9317, device='cuda:0', grad_fn=<NegBackward>) None\n",
      "epoch 1 step 200 tensor(0.9965, device='cuda:0', grad_fn=<SubBackward0>) tensor(0.9744, device='cuda:0', grad_fn=<NegBackward>) None\n",
      "epoch 1 step 210 tensor(0.9678, device='cuda:0', grad_fn=<SubBackward0>) tensor(1.0085, device='cuda:0', grad_fn=<NegBackward>) None\n",
      "epoch 1 step 220 tensor(0.9786, device='cuda:0', grad_fn=<SubBackward0>) tensor(0.9990, device='cuda:0', grad_fn=<NegBackward>) None\n",
      "epoch 1 step 230 tensor(0.9484, device='cuda:0', grad_fn=<SubBackward0>) tensor(1.0203, device='cuda:0', grad_fn=<NegBackward>) None\n",
      "epoch 1 step 240 tensor(0.9310, device='cuda:0', grad_fn=<SubBackward0>) tensor(1.0475, device='cuda:0', grad_fn=<NegBackward>) None\n",
      "epoch 1 step 250 tensor(0.9089, device='cuda:0', grad_fn=<SubBackward0>) tensor(1.0789, device='cuda:0', grad_fn=<NegBackward>) None\n",
      "epoch 1 step 260 tensor(0.9328, device='cuda:0', grad_fn=<SubBackward0>) tensor(1.0379, device='cuda:0', grad_fn=<NegBackward>) None\n",
      "epoch 1 step 270 tensor(0.9407, device='cuda:0', grad_fn=<SubBackward0>) tensor(1.0080, device='cuda:0', grad_fn=<NegBackward>) None\n",
      "epoch 1 step 280 tensor(0.8860, device='cuda:0', grad_fn=<SubBackward0>) tensor(1.0706, device='cuda:0', grad_fn=<NegBackward>) None\n",
      "epoch 1 step 290 tensor(0.8877, device='cuda:0', grad_fn=<SubBackward0>) tensor(1.1193, device='cuda:0', grad_fn=<NegBackward>) None\n",
      "epoch 1 step 300 tensor(0.8822, device='cuda:0', grad_fn=<SubBackward0>) tensor(1.1388, device='cuda:0', grad_fn=<NegBackward>) None\n",
      "epoch 1 step 310 tensor(0.8764, device='cuda:0', grad_fn=<SubBackward0>) tensor(1.1219, device='cuda:0', grad_fn=<NegBackward>) None\n",
      "epoch 1 step 320 tensor(0.8221, device='cuda:0', grad_fn=<SubBackward0>) tensor(1.0897, device='cuda:0', grad_fn=<NegBackward>) None\n",
      "epoch 1 step 330 tensor(0.8657, device='cuda:0', grad_fn=<SubBackward0>) tensor(1.0854, device='cuda:0', grad_fn=<NegBackward>) None\n",
      "epoch 1 step 340 tensor(0.8568, device='cuda:0', grad_fn=<SubBackward0>) tensor(1.1213, device='cuda:0', grad_fn=<NegBackward>) None\n",
      "epoch 1 step 350 tensor(0.8836, device='cuda:0', grad_fn=<SubBackward0>) tensor(1.1050, device='cuda:0', grad_fn=<NegBackward>) None\n",
      "epoch 1 step 360 tensor(0.8406, device='cuda:0', grad_fn=<SubBackward0>) tensor(1.0485, device='cuda:0', grad_fn=<NegBackward>) None\n",
      "epoch 1 step 370 tensor(0.8067, device='cuda:0', grad_fn=<SubBackward0>) tensor(1.1479, device='cuda:0', grad_fn=<NegBackward>) None\n",
      "epoch 1 step 380 tensor(0.8442, device='cuda:0', grad_fn=<SubBackward0>) tensor(1.1512, device='cuda:0', grad_fn=<NegBackward>) None\n",
      "epoch 1 step 390 tensor(0.7979, device='cuda:0', grad_fn=<SubBackward0>) tensor(1.2172, device='cuda:0', grad_fn=<NegBackward>) None\n",
      "epoch 1 step 400 tensor(0.7776, device='cuda:0', grad_fn=<SubBackward0>) tensor(1.1641, device='cuda:0', grad_fn=<NegBackward>) None\n",
      "epoch 1 step 410 tensor(0.7778, device='cuda:0', grad_fn=<SubBackward0>) tensor(1.2059, device='cuda:0', grad_fn=<NegBackward>) None\n",
      "epoch 1 step 420 tensor(0.7781, device='cuda:0', grad_fn=<SubBackward0>) tensor(1.2397, device='cuda:0', grad_fn=<NegBackward>) None\n",
      "epoch 1 step 430 tensor(0.7769, device='cuda:0', grad_fn=<SubBackward0>) tensor(1.1550, device='cuda:0', grad_fn=<NegBackward>) None\n",
      "epoch 1 step 440 tensor(0.7576, device='cuda:0', grad_fn=<SubBackward0>) tensor(1.1154, device='cuda:0', grad_fn=<NegBackward>) None\n",
      "epoch 1 step 450 tensor(0.7211, device='cuda:0', grad_fn=<SubBackward0>) tensor(1.1807, device='cuda:0', grad_fn=<NegBackward>) None\n",
      "epoch 1 step 460 tensor(0.7674, device='cuda:0', grad_fn=<SubBackward0>) tensor(1.2464, device='cuda:0', grad_fn=<NegBackward>) None\n",
      "epoch 1 step 470 tensor(0.7300, device='cuda:0', grad_fn=<SubBackward0>) tensor(1.1632, device='cuda:0', grad_fn=<NegBackward>) None\n",
      "epoch 1 step 480 tensor(0.7267, device='cuda:0', grad_fn=<SubBackward0>) tensor(1.1724, device='cuda:0', grad_fn=<NegBackward>) None\n",
      "epoch 1 step 490 tensor(0.6547, device='cuda:0', grad_fn=<SubBackward0>) tensor(1.2730, device='cuda:0', grad_fn=<NegBackward>) None\n",
      "epoch 1 step 500 tensor(0.7138, device='cuda:0', grad_fn=<SubBackward0>) tensor(1.2618, device='cuda:0', grad_fn=<NegBackward>) None\n"
     ]
    },
    {
     "ename": "KeyboardInterrupt",
     "evalue": "",
     "output_type": "error",
     "traceback": [
      "\u001b[0;31m---------------------------------------------------------------------------\u001b[0m",
      "\u001b[0;31mKeyboardInterrupt\u001b[0m                         Traceback (most recent call last)",
      "\u001b[0;32m<ipython-input-41-04f817c3a83d>\u001b[0m in \u001b[0;36m<module>\u001b[0;34m\u001b[0m\n\u001b[1;32m      1\u001b[0m \u001b[0;31m# cometml_key=config['comet_ml']['api_key']\u001b[0m\u001b[0;34m\u001b[0m\u001b[0;34m\u001b[0m\u001b[0;34m\u001b[0m\u001b[0m\n\u001b[0;32m----> 2\u001b[0;31m \u001b[0msynthesizer\u001b[0m\u001b[0;34m.\u001b[0m\u001b[0mtrain\u001b[0m\u001b[0;34m(\u001b[0m\u001b[0mdata\u001b[0m\u001b[0;34m.\u001b[0m\u001b[0mvalues\u001b[0m\u001b[0;34m)\u001b[0m\u001b[0;34m\u001b[0m\u001b[0;34m\u001b[0m\u001b[0m\n\u001b[0m",
      "\u001b[0;32m~/SDGym/sdgym/synthesizers/tablegan.py\u001b[0m in \u001b[0;36mtrain\u001b[0;34m(self, train_data)\u001b[0m\n\u001b[1;32m    178\u001b[0m                 \u001b[0moptimizerG\u001b[0m\u001b[0;34m.\u001b[0m\u001b[0mzero_grad\u001b[0m\u001b[0;34m(\u001b[0m\u001b[0;34m)\u001b[0m\u001b[0;34m\u001b[0m\u001b[0;34m\u001b[0m\u001b[0m\n\u001b[1;32m    179\u001b[0m                 \u001b[0my_fake\u001b[0m \u001b[0;34m=\u001b[0m \u001b[0mdiscriminator\u001b[0m\u001b[0;34m(\u001b[0m\u001b[0mfake\u001b[0m\u001b[0;34m)\u001b[0m\u001b[0;34m\u001b[0m\u001b[0;34m\u001b[0m\u001b[0m\n\u001b[0;32m--> 180\u001b[0;31m                 \u001b[0mloss_g\u001b[0m \u001b[0;34m=\u001b[0m \u001b[0;34m-\u001b[0m\u001b[0;34m(\u001b[0m\u001b[0mtorch\u001b[0m\u001b[0;34m.\u001b[0m\u001b[0mlog\u001b[0m\u001b[0;34m(\u001b[0m\u001b[0my_fake\u001b[0m \u001b[0;34m+\u001b[0m \u001b[0;36m1e-4\u001b[0m\u001b[0;34m)\u001b[0m\u001b[0;34m.\u001b[0m\u001b[0mmean\u001b[0m\u001b[0;34m(\u001b[0m\u001b[0;34m)\u001b[0m\u001b[0;34m)\u001b[0m\u001b[0;34m\u001b[0m\u001b[0;34m\u001b[0m\u001b[0m\n\u001b[0m\u001b[1;32m    181\u001b[0m                 \u001b[0mloss_g\u001b[0m\u001b[0;34m.\u001b[0m\u001b[0mbackward\u001b[0m\u001b[0;34m(\u001b[0m\u001b[0mretain_graph\u001b[0m\u001b[0;34m=\u001b[0m\u001b[0;32mTrue\u001b[0m\u001b[0;34m)\u001b[0m\u001b[0;34m\u001b[0m\u001b[0;34m\u001b[0m\u001b[0m\n\u001b[1;32m    182\u001b[0m                 \u001b[0mloss_mean\u001b[0m \u001b[0;34m=\u001b[0m \u001b[0mtorch\u001b[0m\u001b[0;34m.\u001b[0m\u001b[0mnorm\u001b[0m\u001b[0;34m(\u001b[0m\u001b[0mtorch\u001b[0m\u001b[0;34m.\u001b[0m\u001b[0mmean\u001b[0m\u001b[0;34m(\u001b[0m\u001b[0mfake\u001b[0m\u001b[0;34m,\u001b[0m \u001b[0mdim\u001b[0m\u001b[0;34m=\u001b[0m\u001b[0;36m0\u001b[0m\u001b[0;34m)\u001b[0m \u001b[0;34m-\u001b[0m \u001b[0mtorch\u001b[0m\u001b[0;34m.\u001b[0m\u001b[0mmean\u001b[0m\u001b[0;34m(\u001b[0m\u001b[0mreal\u001b[0m\u001b[0;34m,\u001b[0m \u001b[0mdim\u001b[0m\u001b[0;34m=\u001b[0m\u001b[0;36m0\u001b[0m\u001b[0;34m)\u001b[0m\u001b[0;34m,\u001b[0m \u001b[0;36m1\u001b[0m\u001b[0;34m)\u001b[0m\u001b[0;34m\u001b[0m\u001b[0;34m\u001b[0m\u001b[0m\n",
      "\u001b[0;31mKeyboardInterrupt\u001b[0m: "
     ]
    }
   ],
   "source": [
    "# cometml_key=config['comet_ml']['api_key']\n",
    "synthesizer.train(data.values)"
   ]
  },
  {
   "cell_type": "code",
   "execution_count": 10,
   "metadata": {},
   "outputs": [
    {
     "ename": "AttributeError",
     "evalue": "'TGANSynthesizer' object has no attribute 'generator'",
     "output_type": "error",
     "traceback": [
      "\u001b[0;31m---------------------------------------------------------------------------\u001b[0m",
      "\u001b[0;31mAttributeError\u001b[0m                            Traceback (most recent call last)",
      "\u001b[0;32m<ipython-input-10-862096376a1d>\u001b[0m in \u001b[0;36m<module>\u001b[0;34m\u001b[0m\n\u001b[0;32m----> 1\u001b[0;31m \u001b[0;32mfor\u001b[0m \u001b[0mi\u001b[0m\u001b[0;34m,\u001b[0m \u001b[0my\u001b[0m \u001b[0;32min\u001b[0m \u001b[0msynthesizer\u001b[0m\u001b[0;34m.\u001b[0m\u001b[0mgenerator\u001b[0m\u001b[0;34m.\u001b[0m\u001b[0mnamed_parameters\u001b[0m\u001b[0;34m(\u001b[0m\u001b[0;34m)\u001b[0m\u001b[0;34m:\u001b[0m\u001b[0;34m\u001b[0m\u001b[0;34m\u001b[0m\u001b[0m\n\u001b[0m\u001b[1;32m      2\u001b[0m     \u001b[0mprint\u001b[0m\u001b[0;34m(\u001b[0m\u001b[0mi\u001b[0m\u001b[0;34m,\u001b[0m \u001b[0my\u001b[0m\u001b[0;34m)\u001b[0m\u001b[0;34m\u001b[0m\u001b[0;34m\u001b[0m\u001b[0m\n",
      "\u001b[0;31mAttributeError\u001b[0m: 'TGANSynthesizer' object has no attribute 'generator'"
     ]
    }
   ],
   "source": [
    "for i, y in synthesizer.generator.named_parameters():\n",
    "    print(i, y)"
   ]
  },
  {
   "cell_type": "code",
   "execution_count": 220,
   "metadata": {},
   "outputs": [],
   "source": [
    "act_means = [[] for _ in synthesizer.generator.seq]\n",
    "act_stds  = [[] for _ in synthesizer.generator.seq]"
   ]
  },
  {
   "cell_type": "code",
   "execution_count": 195,
   "metadata": {},
   "outputs": [],
   "source": [
    "def append_stats(i):\n",
    "    def hook(mod, inp, outp):\n",
    "        act_means[i].append(outp.data.mean())\n",
    "        act_stds [i].append(outp.data.std())\n",
    "    return hook"
   ]
  },
  {
   "cell_type": "code",
   "execution_count": 196,
   "metadata": {},
   "outputs": [],
   "source": [
    "from functools import partial\n",
    "for i, m in enumerate(synthesizer.generator.seq): m.register_forward_hook(append_stats(i))\n"
   ]
  },
  {
   "cell_type": "code",
   "execution_count": 199,
   "metadata": {},
   "outputs": [
    {
     "data": {
      "text/plain": [
       "[[tensor(nan, device='cuda:0'),\n",
       "  tensor(nan, device='cuda:0'),\n",
       "  tensor(nan, device='cuda:0')],\n",
       " [tensor(nan, device='cuda:0'),\n",
       "  tensor(nan, device='cuda:0'),\n",
       "  tensor(nan, device='cuda:0')],\n",
       " [tensor(nan, device='cuda:0'),\n",
       "  tensor(nan, device='cuda:0'),\n",
       "  tensor(nan, device='cuda:0')]]"
      ]
     },
     "execution_count": 199,
     "metadata": {},
     "output_type": "execute_result"
    }
   ],
   "source": [
    "act_means"
   ]
  },
  {
   "cell_type": "code",
   "execution_count": 198,
   "metadata": {},
   "outputs": [
    {
     "data": {
      "image/png": "[encoded data removed]",
      "text/plain": [
       "<Figure size 432x288 with 1 Axes>"
      ]
     },
     "metadata": {
      "needs_background": "light"
     },
     "output_type": "display_data"
    }
   ],
   "source": [
    "import matplotlib.pyplot as plt\n",
    "for l in act_means: plt.plot(l)\n"
   ]
  },
  {
   "cell_type": "code",
   "execution_count": 197,
   "metadata": {},
   "outputs": [],
   "source": [
    "n = 1000\n",
    "generated = synthesizer.generate(n)\n"
   ]
  },
  {
   "cell_type": "code",
   "execution_count": 174,
   "metadata": {},
   "outputs": [
    {
     "data": {
      "text/html": [
       "<div>\n",
       "<style scoped>\n",
       "    .dataframe tbody tr th:only-of-type {\n",
       "        vertical-align: middle;\n",
       "    }\n",
       "\n",
       "    .dataframe tbody tr th {\n",
       "        vertical-align: top;\n",
       "    }\n",
       "\n",
       "    .dataframe thead th {\n",
       "        text-align: right;\n",
       "    }\n",
       "</style>\n",
       "<table border=\"1\" class=\"dataframe\">\n",
       "  <thead>\n",
       "    <tr style=\"text-align: right;\">\n",
       "      <th></th>\n",
       "      <th>account_id</th>\n",
       "      <th>trans_amount</th>\n",
       "      <th>balance_after_trans</th>\n",
       "      <th>trans_type</th>\n",
       "      <th>trans_operation</th>\n",
       "      <th>trans_date</th>\n",
       "    </tr>\n",
       "  </thead>\n",
       "  <tbody>\n",
       "    <tr>\n",
       "      <th>0</th>\n",
       "      <td>215.900912</td>\n",
       "      <td>20486.589735</td>\n",
       "      <td>25186.654534</td>\n",
       "      <td>0.0</td>\n",
       "      <td>3.0</td>\n",
       "      <td>189.0</td>\n",
       "    </tr>\n",
       "    <tr>\n",
       "      <th>1</th>\n",
       "      <td>21.312649</td>\n",
       "      <td>-477.730918</td>\n",
       "      <td>22048.833255</td>\n",
       "      <td>0.0</td>\n",
       "      <td>2.0</td>\n",
       "      <td>101.0</td>\n",
       "    </tr>\n",
       "    <tr>\n",
       "      <th>2</th>\n",
       "      <td>69.479179</td>\n",
       "      <td>31020.134045</td>\n",
       "      <td>24513.288084</td>\n",
       "      <td>0.0</td>\n",
       "      <td>1.0</td>\n",
       "      <td>201.0</td>\n",
       "    </tr>\n",
       "    <tr>\n",
       "      <th>3</th>\n",
       "      <td>150.171570</td>\n",
       "      <td>8227.723997</td>\n",
       "      <td>36425.347746</td>\n",
       "      <td>2.0</td>\n",
       "      <td>0.0</td>\n",
       "      <td>187.0</td>\n",
       "    </tr>\n",
       "    <tr>\n",
       "      <th>4</th>\n",
       "      <td>160.459434</td>\n",
       "      <td>711.122546</td>\n",
       "      <td>45111.946315</td>\n",
       "      <td>0.0</td>\n",
       "      <td>5.0</td>\n",
       "      <td>73.0</td>\n",
       "    </tr>\n",
       "  </tbody>\n",
       "</table>\n",
       "</div>"
      ],
      "text/plain": [
       "   account_id  trans_amount  balance_after_trans  trans_type  trans_operation  \\\n",
       "0  215.900912  20486.589735         25186.654534         0.0              3.0   \n",
       "1   21.312649   -477.730918         22048.833255         0.0              2.0   \n",
       "2   69.479179  31020.134045         24513.288084         0.0              1.0   \n",
       "3  150.171570   8227.723997         36425.347746         2.0              0.0   \n",
       "4  160.459434    711.122546         45111.946315         0.0              5.0   \n",
       "\n",
       "   trans_date  \n",
       "0       189.0  \n",
       "1       101.0  \n",
       "2       201.0  \n",
       "3       187.0  \n",
       "4        73.0  "
      ]
     },
     "execution_count": 174,
     "metadata": {},
     "output_type": "execute_result"
    }
   ],
   "source": [
    "z = pd.DataFrame(generated[0][1])\n",
    "z.columns = data.columns\n",
    "z.head()"
   ]
  },
  {
   "cell_type": "code",
   "execution_count": null,
   "metadata": {},
   "outputs": [],
   "source": [
    "sample = min(args.sample, data.shape[0])\n",
    "generated = synthesizer.generate(sample)"
   ]
  },
  {
   "cell_type": "code",
   "execution_count": 8,
   "metadata": {},
   "outputs": [
    {
     "data": {
      "text/html": [
       "<div>\n",
       "<style scoped>\n",
       "    .dataframe tbody tr th:only-of-type {\n",
       "        vertical-align: middle;\n",
       "    }\n",
       "\n",
       "    .dataframe tbody tr th {\n",
       "        vertical-align: top;\n",
       "    }\n",
       "\n",
       "    .dataframe thead th {\n",
       "        text-align: right;\n",
       "    }\n",
       "</style>\n",
       "<table border=\"1\" class=\"dataframe\">\n",
       "  <thead>\n",
       "    <tr style=\"text-align: right;\">\n",
       "      <th></th>\n",
       "      <th>account_id</th>\n",
       "      <th>trans_amount</th>\n",
       "      <th>balance_after_trans</th>\n",
       "      <th>trans_type</th>\n",
       "      <th>trans_operation</th>\n",
       "      <th>trans_date</th>\n",
       "    </tr>\n",
       "  </thead>\n",
       "  <tbody>\n",
       "    <tr>\n",
       "      <th>0</th>\n",
       "      <td>0</td>\n",
       "      <td>700.0</td>\n",
       "      <td>700.0</td>\n",
       "      <td>0</td>\n",
       "      <td>0</td>\n",
       "      <td>0</td>\n",
       "    </tr>\n",
       "    <tr>\n",
       "      <th>1</th>\n",
       "      <td>1</td>\n",
       "      <td>900.0</td>\n",
       "      <td>900.0</td>\n",
       "      <td>0</td>\n",
       "      <td>0</td>\n",
       "      <td>0</td>\n",
       "    </tr>\n",
       "    <tr>\n",
       "      <th>2</th>\n",
       "      <td>2</td>\n",
       "      <td>1000.0</td>\n",
       "      <td>1000.0</td>\n",
       "      <td>0</td>\n",
       "      <td>0</td>\n",
       "      <td>0</td>\n",
       "    </tr>\n",
       "    <tr>\n",
       "      <th>3</th>\n",
       "      <td>3</td>\n",
       "      <td>600.0</td>\n",
       "      <td>600.0</td>\n",
       "      <td>0</td>\n",
       "      <td>0</td>\n",
       "      <td>0</td>\n",
       "    </tr>\n",
       "    <tr>\n",
       "      <th>4</th>\n",
       "      <td>4</td>\n",
       "      <td>400.0</td>\n",
       "      <td>400.0</td>\n",
       "      <td>0</td>\n",
       "      <td>0</td>\n",
       "      <td>1</td>\n",
       "    </tr>\n",
       "  </tbody>\n",
       "</table>\n",
       "</div>"
      ],
      "text/plain": [
       "   account_id  trans_amount  balance_after_trans  trans_type  trans_operation  \\\n",
       "0           0         700.0                700.0           0                0   \n",
       "1           1         900.0                900.0           0                0   \n",
       "2           2        1000.0               1000.0           0                0   \n",
       "3           3         600.0                600.0           0                0   \n",
       "4           4         400.0                400.0           0                0   \n",
       "\n",
       "   trans_date  \n",
       "0           0  \n",
       "1           0  \n",
       "2           0  \n",
       "3           0  \n",
       "4           1  "
      ]
     },
     "execution_count": 8,
     "metadata": {},
     "output_type": "execute_result"
    }
   ],
   "source": [
    "b = pd.read_csv('../data/berka/berka.csv', sep=';')\n",
    "b.head()"
   ]
  },
  {
   "cell_type": "code",
   "execution_count": 10,
   "metadata": {},
   "outputs": [
    {
     "name": "stdout",
     "output_type": "stream",
     "text": [
      "0 4499\n",
      "0.0 87400.0\n",
      "-41125.7 209637.0\n",
      "0 2\n",
      "0 5\n",
      "0 2190\n"
     ]
    }
   ],
   "source": [
    "for col in b._get_numeric_data().columns:\n",
    "    print(b[col].min(), b[col].max())"
   ]
  },
  {
   "cell_type": "code",
   "execution_count": 175,
   "metadata": {},
   "outputs": [],
   "source": [
    "import pickle\n",
    "subs = pickle.load(open('../data/berka/subs.pkl', 'rb'))"
   ]
  },
  {
   "cell_type": "code",
   "execution_count": 176,
   "metadata": {},
   "outputs": [
    {
     "data": {
      "text/plain": [
       "dict_keys(['trans_operation', 'account_id', 'trans_type'])"
      ]
     },
     "execution_count": 176,
     "metadata": {},
     "output_type": "execute_result"
    }
   ],
   "source": [
    "subs.keys()"
   ]
  },
  {
   "cell_type": "code",
   "execution_count": null,
   "metadata": {},
   "outputs": [],
   "source": []
  }
 ],
 "metadata": {
  "kernelspec": {
   "display_name": "torch (3.6.7)",
   "language": "python",
   "name": "torch"
  },
  "language_info": {
   "codemirror_mode": {
    "name": "ipython",
    "version": 3
   },
   "file_extension": ".py",
   "mimetype": "text/x-python",
   "name": "python",
   "nbconvert_exporter": "python",
   "pygments_lexer": "ipython3",
   "version": "3.6.7"
  }
 },
 "nbformat": 4,
 "nbformat_minor": 2
}
