{
 "cells": [
  {
   "cell_type": "code",
   "execution_count": 3,
   "metadata": {},
   "outputs": [],
   "source": [
    "import pandas as pd\n",
    "import numpy as np\n",
    "import matplotlib as plt\n",
    "import seaborn as sns\n",
    "from pathlib import Path"
   ]
  },
  {
   "cell_type": "code",
   "execution_count": 51,
   "metadata": {},
   "outputs": [
    {
     "data": {
      "text/plain": [
       "[1, 1, 2, 3, 4, 5]"
      ]
     },
     "execution_count": 51,
     "metadata": {},
     "output_type": "execute_result"
    }
   ],
   "source": [
    "epochs = 5\n",
    "n_checkpoints = 5\n",
    "store_epoch = [1] + list(range(epochs // n_checkpoints, epochs+1, epochs // n_checkpoints)) if epochs // n_checkpoints > 0 else [epochs]\n",
    "store_epoch"
   ]
  },
  {
   "cell_type": "code",
   "execution_count": 46,
   "metadata": {},
   "outputs": [
    {
     "data": {
      "text/plain": [
       "6"
      ]
     },
     "execution_count": 46,
     "metadata": {},
     "output_type": "execute_result"
    }
   ],
   "source": [
    "epochs // 5"
   ]
  },
  {
   "cell_type": "code",
   "execution_count": 16,
   "metadata": {},
   "outputs": [],
   "source": [
    "base_data_path = 'generated_data/'\n",
    "base_metadata_path = 'data/real/'"
   ]
  },
  {
   "cell_type": "code",
   "execution_count": 36,
   "metadata": {},
   "outputs": [
    {
     "name": "stdout",
     "output_type": "stream",
     "text": [
      "generated_data/census/tablegan\n",
      "generated_data/census/tablegan/sample_census_100.csv\n",
      "        age  class of worker detailed industry recode detailed occupation recode             education  wage per hour enroll in edu inst last wk   marital stat          major industry code major occupation code   race hispanic origin     sex member of a labor union reason for unemployment full or part time employment stat  capital gains  capital losses  dividends from stocks tax filer stat region of previous residence state of previous residence detailed household and family stat detailed household summary in household migration code-change in msa migration code-change in reg migration code-move within reg     live in this house 1 year ago migration prev res in sunbelt  num persons worked for employer family members under 18 country of birth father country of birth mother country of birth self                        citizenship own business or self employed fill inc questionnaire for veteran's admin veterans benefits  weeks worked in year year    label\n",
      "0  0.003567  Not in universe                        0                          0  High school graduate   1.788318e-11            Not in universe  Never married  Not in universe or children       Not in universe  White       All other  Female         Not in universe         Not in universe          Children or Armed Forces            0.0    0.000000e+00           2.980262e-13       Nonfiler              Not in universe             Not in universe                        Householder                             Householder                            ?                            ?                              ?  Not in universe under 1 year old                             ?                         0.016563         Not in universe           United-States           United-States         United-States  Native- Born in the United States                             0                            Not in universe                 2              0.000110   95  - 50000\n",
      "1  0.003254  Not in universe                        0                          0  High school graduate   4.411184e-10            Not in universe  Never married  Not in universe or children       Not in universe  White       All other  Female         Not in universe         Not in universe          Children or Armed Forces            0.0    0.000000e+00           6.645984e-11       Nonfiler              Not in universe             Not in universe                        Householder                             Householder                            ?                            ?                              ?  Not in universe under 1 year old                             ?                         0.165275         Not in universe           United-States           United-States         United-States  Native- Born in the United States                             0                            Not in universe                 2              0.019230   95  - 50000\n",
      "2  0.009018  Not in universe                        0                          0  High school graduate   7.570545e-10            Not in universe  Never married  Not in universe or children       Not in universe  White       All other    Male         Not in universe         Not in universe          Children or Armed Forces            0.0    3.880509e-11           3.311071e-09       Nonfiler              Not in universe             Not in universe                        Householder                             Householder                            ?                            ?                              ?  Not in universe under 1 year old                             ?                         0.000080         Not in universe           United-States           United-States         United-States  Native- Born in the United States                             0                            Not in universe                 2              0.000003   95  - 50000\n",
      "3  0.000056  Not in universe                        0                          0  High school graduate   0.000000e+00            Not in universe  Never married  Not in universe or children       Not in universe  White       All other    Male         Not in universe         Not in universe          Children or Armed Forces            0.0    0.000000e+00           0.000000e+00       Nonfiler              Not in universe             Not in universe                        Householder                             Householder                            ?                            ?                              ?  Not in universe under 1 year old                             ?                         0.000000         Not in universe           United-States           United-States         United-States  Native- Born in the United States                             0                            Not in universe                 2              0.000000   95  - 50000\n",
      "4  0.000339  Not in universe                        0                          0  High school graduate   0.000000e+00            Not in universe  Never married  Not in universe or children       Not in universe  White       All other    Male         Not in universe         Not in universe          Children or Armed Forces            0.0    0.000000e+00           3.784933e-10       Nonfiler              Not in universe             Not in universe                        Householder                             Householder                            ?                            ?                              ?  Not in universe under 1 year old                             ?                         0.000000         Not in universe           United-States           United-States         United-States  Native- Born in the United States                             0                            Not in universe                 2              0.000000   94  - 50000\n",
      "generated_data/census/medgan\n",
      "generated_data/census/medgan/sample_census_100.csv\n",
      "         age  class of worker detailed industry recode detailed occupation recode             education  wage per hour enroll in edu inst last wk   marital stat          major industry code major occupation code   race hispanic origin     sex member of a labor union reason for unemployment full or part time employment stat  capital gains  capital losses  dividends from stocks tax filer stat region of previous residence state of previous residence detailed household and family stat detailed household summary in household migration code-change in msa migration code-change in reg migration code-move within reg     live in this house 1 year ago migration prev res in sunbelt  num persons worked for employer family members under 18 country of birth father country of birth mother country of birth self                        citizenship own business or self employed fill inc questionnaire for veteran's admin veterans benefits  weeks worked in year year    label\n",
      "0  53.927437  Not in universe                        0                          0  High school graduate    5013.341309            Not in universe  Never married  Not in universe or children       Not in universe  White       All other  Female         Not in universe         Not in universe          Children or Armed Forces   49298.382812     2256.674316           48851.617188       Nonfiler              Not in universe             Not in universe              Spouse of householder                             Householder                            ?                            ?                              ?  Not in universe under 1 year old               Not in universe                         3.483485         Not in universe           United-States           United-States         United-States  Native- Born in the United States                             0                            Not in universe                 2             32.526485   95  - 50000\n",
      "1  54.049702  Not in universe                        0                          0  High school graduate    5019.193359            Not in universe  Never married  Not in universe or children       Not in universe  White       All other  Female         Not in universe         Not in universe          Children or Armed Forces   49176.640625     2248.356201           48612.375000       Nonfiler              Not in universe             Not in universe              Spouse of householder                             Householder                            ?                            ?                              ?  Not in universe under 1 year old               Not in universe                         3.462443         Not in universe           United-States           United-States         United-States  Native- Born in the United States                             0                            Not in universe                 2             32.568642   95  - 50000\n",
      "2  54.001774  Not in universe                        0                          0  High school graduate    4984.916016            Not in universe  Never married  Not in universe or children       Not in universe  White       All other  Female         Not in universe         Not in universe          Children or Armed Forces   49013.750000     2242.899414           48547.046875       Nonfiler              Not in universe             Not in universe              Spouse of householder                             Householder                            ?                            ?                              ?  Not in universe under 1 year old               Not in universe                         3.468741         Not in universe           United-States           United-States         United-States  Native- Born in the United States                             0                            Not in universe                 2             32.525944   95  - 50000\n",
      "3  53.891941  Not in universe                        0                          0  High school graduate    5007.107910            Not in universe  Never married  Not in universe or children       Not in universe  White       All other  Female         Not in universe         Not in universe          Children or Armed Forces   49144.085938     2254.024414           48733.871094       Nonfiler              Not in universe             Not in universe                        Householder                             Householder                            ?                            ?                              ?  Not in universe under 1 year old               Not in universe                         3.490512         Not in universe           United-States           United-States         United-States  Native- Born in the United States                             0                            Not in universe                 2             32.581272   95  - 50000\n",
      "4  53.927437  Not in universe                        0                          0  High school graduate    5013.341309            Not in universe  Never married  Not in universe or children       Not in universe  White       All other  Female         Not in universe         Not in universe          Children or Armed Forces   49298.382812     2256.674316           48851.617188       Nonfiler              Not in universe             Not in universe              Spouse of householder                             Householder                            ?                            ?                              ?  Not in universe under 1 year old               Not in universe                         3.483485         Not in universe           United-States           United-States         United-States  Native- Born in the United States                             0                            Not in universe                 2             32.526485   95  - 50000\n"
     ]
    }
   ],
   "source": [
    "def transform_folder(dataset, base_data_path=base_data_path, base_metadata_path=base_metadata_path):\n",
    "    metadata = json.load(open(f'{base_metadata_path}/{dataset}.json'))\n",
    "    data_model_versions = Path(base_data_path)\n",
    "    ds_path = Path(f'{base_data_path}/{dataset}')\n",
    "    for path in ds_path.iterdir():\n",
    "        if not path.name.startswith('.'):\n",
    "            print(path)\n",
    "            sample_path = ds_path / path.name / f'sample_{dataset}_100.csv'\n",
    "            print(sample_path)\n",
    "            sample = pd.read_csv(sample_path.as_posix())\n",
    "            columnnames = [col['name'] for col in metadata]\n",
    "            sample.columns = columnnames\n",
    "            for idx, column_data in enumerate(metadata):\n",
    "                if column_data['type'] == 'categorical' or column_data['type'] == 'nominal':\n",
    "                    sample.iloc[:, idx] = [column_data['i2s'][z] for z in sample.iloc[:, idx].values.astype('int')]\n",
    "#                 elif column_data['type'] == 'continuous':\n",
    "#                     sample.iloc[:, idx] = [column_data['i2s'][z] for z in sample.iloc[:, idx].values.astype('int')]\n",
    "\n",
    "#                 name = column_data['name']\n",
    "            print(sample.head().to_string())\n",
    "                \n",
    "#     src_data = pd.read_csv(f'{base_data_path}/{dataset}/')\n",
    "#     print(metadata)\n",
    "\n",
    "transform_folder('census')"
   ]
  },
  {
   "cell_type": "code",
   "execution_count": 19,
   "metadata": {},
   "outputs": [
    {
     "data": {
      "text/plain": [
       "['__bytes__',\n",
       " '__class__',\n",
       " '__delattr__',\n",
       " '__dir__',\n",
       " '__doc__',\n",
       " '__enter__',\n",
       " '__eq__',\n",
       " '__exit__',\n",
       " '__format__',\n",
       " '__fspath__',\n",
       " '__ge__',\n",
       " '__getattribute__',\n",
       " '__gt__',\n",
       " '__hash__',\n",
       " '__init__',\n",
       " '__init_subclass__',\n",
       " '__le__',\n",
       " '__lt__',\n",
       " '__module__',\n",
       " '__ne__',\n",
       " '__new__',\n",
       " '__reduce__',\n",
       " '__reduce_ex__',\n",
       " '__repr__',\n",
       " '__rtruediv__',\n",
       " '__setattr__',\n",
       " '__sizeof__',\n",
       " '__slots__',\n",
       " '__str__',\n",
       " '__subclasshook__',\n",
       " '__truediv__',\n",
       " '_accessor',\n",
       " '_cached_cparts',\n",
       " '_closed',\n",
       " '_cparts',\n",
       " '_drv',\n",
       " '_flavour',\n",
       " '_format_parsed_parts',\n",
       " '_from_parsed_parts',\n",
       " '_from_parts',\n",
       " '_hash',\n",
       " '_init',\n",
       " '_make_child',\n",
       " '_make_child_relpath',\n",
       " '_opener',\n",
       " '_parse_args',\n",
       " '_parts',\n",
       " '_pparts',\n",
       " '_raise_closed',\n",
       " '_raw_open',\n",
       " '_root',\n",
       " '_str',\n",
       " 'absolute',\n",
       " 'anchor',\n",
       " 'as_posix',\n",
       " 'as_uri',\n",
       " 'chmod',\n",
       " 'cwd',\n",
       " 'drive',\n",
       " 'exists',\n",
       " 'expanduser',\n",
       " 'glob',\n",
       " 'group',\n",
       " 'home',\n",
       " 'is_absolute',\n",
       " 'is_block_device',\n",
       " 'is_char_device',\n",
       " 'is_dir',\n",
       " 'is_fifo',\n",
       " 'is_file',\n",
       " 'is_reserved',\n",
       " 'is_socket',\n",
       " 'is_symlink',\n",
       " 'iterdir',\n",
       " 'joinpath',\n",
       " 'lchmod',\n",
       " 'lstat',\n",
       " 'match',\n",
       " 'mkdir',\n",
       " 'name',\n",
       " 'open',\n",
       " 'owner',\n",
       " 'parent',\n",
       " 'parents',\n",
       " 'parts',\n",
       " 'read_bytes',\n",
       " 'read_text',\n",
       " 'relative_to',\n",
       " 'rename',\n",
       " 'replace',\n",
       " 'resolve',\n",
       " 'rglob',\n",
       " 'rmdir',\n",
       " 'root',\n",
       " 'samefile',\n",
       " 'stat',\n",
       " 'stem',\n",
       " 'suffix',\n",
       " 'suffixes',\n",
       " 'symlink_to',\n",
       " 'touch',\n",
       " 'unlink',\n",
       " 'with_name',\n",
       " 'with_suffix',\n",
       " 'write_bytes',\n",
       " 'write_text']"
      ]
     },
     "execution_count": 19,
     "metadata": {},
     "output_type": "execute_result"
    }
   ],
   "source": [
    "dir(Path('generated_data'))"
   ]
  },
  {
   "cell_type": "code",
   "execution_count": 9,
   "metadata": {},
   "outputs": [],
   "source": [
    "import json\n",
    "dataset = 'berka.json'\n",
    "metadata = json.load((base_metadata_path/dataset).open())"
   ]
  },
  {
   "cell_type": "code",
   "execution_count": 10,
   "metadata": {},
   "outputs": [
    {
     "data": {
      "text/plain": [
       "[{'max': 3682987.0, 'min': 1.0, 'name': 'trans_id', 'type': 'continuous'},\n",
       " {'max': 11382.0, 'min': 1.0, 'name': 'account_id', 'type': 'continuous'},\n",
       " {'max': 87400.0, 'min': 0.0, 'name': 'trans_amount', 'type': 'continuous'},\n",
       " {'max': 209637.0,\n",
       "  'min': -41125.7,\n",
       "  'name': 'balance_after_trans',\n",
       "  'type': 'continuous'},\n",
       " {'i2s': ['WITHDRAWAL', 'CREDIT', 'UNKNOWN'],\n",
       "  'name': 'trans_type',\n",
       "  'size': 3,\n",
       "  'type': 'categorical'},\n",
       " {'i2s': ['WITHDRAWAL_IN_CASH',\n",
       "   'REMITTANCE_TO_OTHER_BANK',\n",
       "   'UNKNOWN',\n",
       "   'CREDIT_IN_CASH',\n",
       "   'COLLECTION_FROM_OTHER_BANK',\n",
       "   'CC_WITHDRAWAL'],\n",
       "  'name': 'trans_operation',\n",
       "  'size': 6,\n",
       "  'type': 'categorical'},\n",
       " {'i2s': ['UNKNOWN',\n",
       "   'INTEREST_CREDITED',\n",
       "   'PAYMENT_FOR_STATEMENT',\n",
       "   'HOUSEHOLD',\n",
       "   'OLD_AGE_PENSION',\n",
       "   'INSURANCE_PAYMENT',\n",
       "   'LOAN_PAYMENT',\n",
       "   'SANCTION_INTEREST'],\n",
       "  'name': 'trans_k_symbol',\n",
       "  'size': 8,\n",
       "  'type': 'categorical'},\n",
       " {'max': 2190.0, 'min': 0.0, 'name': 'trans_date', 'type': 'continuous'}]"
      ]
     },
     "execution_count": 10,
     "metadata": {},
     "output_type": "execute_result"
    }
   ],
   "source": [
    "metadata"
   ]
  },
  {
   "cell_type": "code",
   "execution_count": null,
   "metadata": {},
   "outputs": [],
   "source": []
  }
 ],
 "metadata": {
  "kernelspec": {
   "display_name": "py3.6",
   "language": "python",
   "name": "p3.6"
  },
  "language_info": {
   "codemirror_mode": {
    "name": "ipython",
    "version": 3
   },
   "file_extension": ".py",
   "mimetype": "text/x-python",
   "name": "python",
   "nbconvert_exporter": "python",
   "pygments_lexer": "ipython3",
   "version": "3.6.8"
  }
 },
 "nbformat": 4,
 "nbformat_minor": 2
}
