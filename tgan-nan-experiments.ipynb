{
 "cells": [
  {
   "cell_type": "code",
   "execution_count": 3,
   "metadata": {},
   "outputs": [],
   "source": [
    "%load_ext autoreload\n",
    "%autoreload 2"
   ]
  },
  {
   "cell_type": "code",
   "execution_count": 4,
   "metadata": {},
   "outputs": [],
   "source": [
    "import pandas as pd"
   ]
  },
  {
   "cell_type": "code",
   "execution_count": 55,
   "metadata": {},
   "outputs": [],
   "source": [
    "synthesizers = dict()\n",
    "epochs=10\n",
    "synthesizers['tablegan'] = TableganSynthesizer(store_epoch=[epochs])\n",
    "synthesizers['tgan'] = TGANSynthesizer(store_epoch=[epochs])\n",
    "synthesizers['medgan'] = MedganSynthesizer(store_epoch=[epochs], pretrain_epoch=50)"
   ]
  },
  {
   "cell_type": "code",
   "execution_count": 57,
   "metadata": {},
   "outputs": [
    {
     "name": "stdout",
     "output_type": "stream",
     "text": [
      "tablegan <sdgym.synthesizers.tablegan.TableganSynthesizer object at 0x7f59e0b3c0b8>\n",
      "tgan <sdgym.synthesizers.tgan.TGANSynthesizer object at 0x7f59e0b3c0f0>\n",
      "medgan <sdgym.synthesizers.medgan.MedganSynthesizer object at 0x7f59e0b3c160>\n"
     ]
    }
   ],
   "source": [
    "for key, value in synthesizers.items():\n",
    "    print(key, value)"
   ]
  },
  {
   "cell_type": "code",
   "execution_count": 40,
   "metadata": {},
   "outputs": [],
   "source": [
    "from sdgym.synthesizers.tgan import *\n",
    "from sdgym.synthesizers.tablegan import *\n",
    "from sdgym.synthesizers.medgan import *\n",
    "\n",
    "# from synthetic_data_benchmark.synthesizer.tgan_synthesizer import *\n",
    "# from synthetic_data_benchmark.synthesizer.tablegan_synthesizer import *\n",
    "\n",
    "import pandas as pd\n",
    "import numpy as np\n",
    "import json\n",
    "from tqdm.auto import tqdm\n",
    "\n",
    "import configparser\n",
    "config = configparser.ConfigParser()\n",
    "config.read('config.ini')\n",
    "\n",
    "output = 'samples/test'\n",
    "dataset = 'berka'\n",
    "working_dir = \"{}/ckpt_{}\".format(output, dataset)\n",
    "\n",
    "# data = pd.read_csv('../data/berka/berka.csv', sep=';')[:1000000]\n",
    "data = pd.read_csv('../data/berka/berka_sdgym.csv')\n",
    "\n",
    "# import pickle\n",
    "# subs = pickle.load(open('../data/berka/subs.pkl', 'rb'))\n",
    "\n",
    "# meta = [\n",
    "#     {\n",
    "#     'name': 'account_id',\n",
    "#     'type': 'continuous',\n",
    "#     'min': data.account_id.min(),\n",
    "#     'max': data.account_id.max()\n",
    "#     },\n",
    "# #     {\n",
    "# #     'name': 'account_id',\n",
    "# #     'type': 'categorical',\n",
    "# #     'size': len(data.account_id.unique().tolist()),\n",
    "# #     'i2s': subs['account_id']['label'].values.tolist()\n",
    "# #     },\n",
    "#     {\n",
    "#     'name': 'trans_amount',\n",
    "#     'type': 'continuous',\n",
    "#     'min': data.trans_amount.min(),\n",
    "#     'max': data.trans_amount.max()   \n",
    "#     },\n",
    "#     {\n",
    "#     'name': 'balance_after_trans',\n",
    "#     'type': 'continuous',\n",
    "#     'min': data.balance_after_trans.min(),\n",
    "#     'max': data.balance_after_trans.max()    \n",
    "#     },\n",
    "#     {\n",
    "#     'name': 'trans_type',\n",
    "#     'type': 'categorical',\n",
    "#     'size': 3,\n",
    "#     'i2s': ['CREDIT', 'WITHDRAWAL', 'UNKNOWN']    \n",
    "#     },\n",
    "#     {\n",
    "#     'name': 'trans_operation',\n",
    "#     'type': 'categorical',\n",
    "#     'size': 6,\n",
    "#     'i2s': subs['trans_operation']['label'].values.tolist()    \n",
    "#     },\n",
    "# #     {\n",
    "# #     'name': 'trans_date',\n",
    "# #     'type': 'ordinal',\n",
    "# #     'size': len(data.trans_date.unique().tolist()),\n",
    "# #     'i2s': list(range(data.trans_date.max()))    \n",
    "# #     },\n",
    "#     {\n",
    "#     'name': 'trans_date',\n",
    "#     'type': 'continuous',\n",
    "#     'size': data.trans_date.min(),\n",
    "#     'i2s': data.trans_date.max()    \n",
    "#     },\n",
    "# ]\n",
    "\n",
    "meta = json.load(open('data/real/berka.json', 'r'))\n",
    "\n",
    "synthesizer = TableganSynthesizer(store_epoch=[100])\n",
    "# synthesizer = MedganSynthesizer(store_epoch=[100], pretrain_epoch=5)\n",
    "synthesizer.init(meta, working_dir)\n"
   ]
  },
  {
   "cell_type": "code",
   "execution_count": null,
   "metadata": {},
   "outputs": [],
   "source": [
    "# cometml_key=config['comet_ml']['api_key']\n",
    "synthesizer.train(data.values)"
   ]
  },
  {
   "cell_type": "code",
   "execution_count": 10,
   "metadata": {},
   "outputs": [
    {
     "ename": "AttributeError",
     "evalue": "'TGANSynthesizer' object has no attribute 'generator'",
     "output_type": "error",
     "traceback": [
      "\u001b[0;31m---------------------------------------------------------------------------\u001b[0m",
      "\u001b[0;31mAttributeError\u001b[0m                            Traceback (most recent call last)",
      "\u001b[0;32m<ipython-input-10-862096376a1d>\u001b[0m in \u001b[0;36m<module>\u001b[0;34m\u001b[0m\n\u001b[0;32m----> 1\u001b[0;31m \u001b[0;32mfor\u001b[0m \u001b[0mi\u001b[0m\u001b[0;34m,\u001b[0m \u001b[0my\u001b[0m \u001b[0;32min\u001b[0m \u001b[0msynthesizer\u001b[0m\u001b[0;34m.\u001b[0m\u001b[0mgenerator\u001b[0m\u001b[0;34m.\u001b[0m\u001b[0mnamed_parameters\u001b[0m\u001b[0;34m(\u001b[0m\u001b[0;34m)\u001b[0m\u001b[0;34m:\u001b[0m\u001b[0;34m\u001b[0m\u001b[0;34m\u001b[0m\u001b[0m\n\u001b[0m\u001b[1;32m      2\u001b[0m     \u001b[0mprint\u001b[0m\u001b[0;34m(\u001b[0m\u001b[0mi\u001b[0m\u001b[0;34m,\u001b[0m \u001b[0my\u001b[0m\u001b[0;34m)\u001b[0m\u001b[0;34m\u001b[0m\u001b[0;34m\u001b[0m\u001b[0m\n",
      "\u001b[0;31mAttributeError\u001b[0m: 'TGANSynthesizer' object has no attribute 'generator'"
     ]
    }
   ],
   "source": [
    "for i, y in synthesizer.generator.named_parameters():\n",
    "    print(i, y)"
   ]
  },
  {
   "cell_type": "code",
   "execution_count": 220,
   "metadata": {},
   "outputs": [],
   "source": [
    "act_means = [[] for _ in synthesizer.generator.seq]\n",
    "act_stds  = [[] for _ in synthesizer.generator.seq]"
   ]
  },
  {
   "cell_type": "code",
   "execution_count": 195,
   "metadata": {},
   "outputs": [],
   "source": [
    "def append_stats(i):\n",
    "    def hook(mod, inp, outp):\n",
    "        act_means[i].append(outp.data.mean())\n",
    "        act_stds [i].append(outp.data.std())\n",
    "    return hook"
   ]
  },
  {
   "cell_type": "code",
   "execution_count": 196,
   "metadata": {},
   "outputs": [],
   "source": [
    "from functools import partial\n",
    "for i, m in enumerate(synthesizer.generator.seq): m.register_forward_hook(append_stats(i))\n"
   ]
  },
  {
   "cell_type": "code",
   "execution_count": 199,
   "metadata": {},
   "outputs": [
    {
     "data": {
      "text/plain": [
       "[[tensor(nan, device='cuda:0'),\n",
       "  tensor(nan, device='cuda:0'),\n",
       "  tensor(nan, device='cuda:0')],\n",
       " [tensor(nan, device='cuda:0'),\n",
       "  tensor(nan, device='cuda:0'),\n",
       "  tensor(nan, device='cuda:0')],\n",
       " [tensor(nan, device='cuda:0'),\n",
       "  tensor(nan, device='cuda:0'),\n",
       "  tensor(nan, device='cuda:0')]]"
      ]
     },
     "execution_count": 199,
     "metadata": {},
     "output_type": "execute_result"
    }
   ],
   "source": [
    "act_means"
   ]
  },
  {
   "cell_type": "code",
   "execution_count": 198,
   "metadata": {},
   "outputs": [
    {
     "data": {
      "image/png": "[encoded data removed]",
      "text/plain": [
       "<Figure size 432x288 with 1 Axes>"
      ]
     },
     "metadata": {
      "needs_background": "light"
     },
     "output_type": "display_data"
    }
   ],
   "source": [
    "import matplotlib.pyplot as plt\n",
    "for l in act_means: plt.plot(l)\n"
   ]
  },
  {
   "cell_type": "code",
   "execution_count": 197,
   "metadata": {},
   "outputs": [],
   "source": [
    "n = 1000\n",
    "generated = synthesizer.generate(n)\n"
   ]
  },
  {
   "cell_type": "code",
   "execution_count": 174,
   "metadata": {},
   "outputs": [
    {
     "data": {
      "text/html": [
       "<div>\n",
       "<style scoped>\n",
       "    .dataframe tbody tr th:only-of-type {\n",
       "        vertical-align: middle;\n",
       "    }\n",
       "\n",
       "    .dataframe tbody tr th {\n",
       "        vertical-align: top;\n",
       "    }\n",
       "\n",
       "    .dataframe thead th {\n",
       "        text-align: right;\n",
       "    }\n",
       "</style>\n",
       "<table border=\"1\" class=\"dataframe\">\n",
       "  <thead>\n",
       "    <tr style=\"text-align: right;\">\n",
       "      <th></th>\n",
       "      <th>account_id</th>\n",
       "      <th>trans_amount</th>\n",
       "      <th>balance_after_trans</th>\n",
       "      <th>trans_type</th>\n",
       "      <th>trans_operation</th>\n",
       "      <th>trans_date</th>\n",
       "    </tr>\n",
       "  </thead>\n",
       "  <tbody>\n",
       "    <tr>\n",
       "      <th>0</th>\n",
       "      <td>215.900912</td>\n",
       "      <td>20486.589735</td>\n",
       "      <td>25186.654534</td>\n",
       "      <td>0.0</td>\n",
       "      <td>3.0</td>\n",
       "      <td>189.0</td>\n",
       "    </tr>\n",
       "    <tr>\n",
       "      <th>1</th>\n",
       "      <td>21.312649</td>\n",
       "      <td>-477.730918</td>\n",
       "      <td>22048.833255</td>\n",
       "      <td>0.0</td>\n",
       "      <td>2.0</td>\n",
       "      <td>101.0</td>\n",
       "    </tr>\n",
       "    <tr>\n",
       "      <th>2</th>\n",
       "      <td>69.479179</td>\n",
       "      <td>31020.134045</td>\n",
       "      <td>24513.288084</td>\n",
       "      <td>0.0</td>\n",
       "      <td>1.0</td>\n",
       "      <td>201.0</td>\n",
       "    </tr>\n",
       "    <tr>\n",
       "      <th>3</th>\n",
       "      <td>150.171570</td>\n",
       "      <td>8227.723997</td>\n",
       "      <td>36425.347746</td>\n",
       "      <td>2.0</td>\n",
       "      <td>0.0</td>\n",
       "      <td>187.0</td>\n",
       "    </tr>\n",
       "    <tr>\n",
       "      <th>4</th>\n",
       "      <td>160.459434</td>\n",
       "      <td>711.122546</td>\n",
       "      <td>45111.946315</td>\n",
       "      <td>0.0</td>\n",
       "      <td>5.0</td>\n",
       "      <td>73.0</td>\n",
       "    </tr>\n",
       "  </tbody>\n",
       "</table>\n",
       "</div>"
      ],
      "text/plain": [
       "   account_id  trans_amount  balance_after_trans  trans_type  trans_operation  \\\n",
       "0  215.900912  20486.589735         25186.654534         0.0              3.0   \n",
       "1   21.312649   -477.730918         22048.833255         0.0              2.0   \n",
       "2   69.479179  31020.134045         24513.288084         0.0              1.0   \n",
       "3  150.171570   8227.723997         36425.347746         2.0              0.0   \n",
       "4  160.459434    711.122546         45111.946315         0.0              5.0   \n",
       "\n",
       "   trans_date  \n",
       "0       189.0  \n",
       "1       101.0  \n",
       "2       201.0  \n",
       "3       187.0  \n",
       "4        73.0  "
      ]
     },
     "execution_count": 174,
     "metadata": {},
     "output_type": "execute_result"
    }
   ],
   "source": [
    "z = pd.DataFrame(generated[0][1])\n",
    "z.columns = data.columns\n",
    "z.head()"
   ]
  },
  {
   "cell_type": "code",
   "execution_count": null,
   "metadata": {},
   "outputs": [],
   "source": [
    "sample = min(args.sample, data.shape[0])\n",
    "generated = synthesizer.generate(sample)"
   ]
  },
  {
   "cell_type": "code",
   "execution_count": 8,
   "metadata": {},
   "outputs": [
    {
     "data": {
      "text/html": [
       "<div>\n",
       "<style scoped>\n",
       "    .dataframe tbody tr th:only-of-type {\n",
       "        vertical-align: middle;\n",
       "    }\n",
       "\n",
       "    .dataframe tbody tr th {\n",
       "        vertical-align: top;\n",
       "    }\n",
       "\n",
       "    .dataframe thead th {\n",
       "        text-align: right;\n",
       "    }\n",
       "</style>\n",
       "<table border=\"1\" class=\"dataframe\">\n",
       "  <thead>\n",
       "    <tr style=\"text-align: right;\">\n",
       "      <th></th>\n",
       "      <th>account_id</th>\n",
       "      <th>trans_amount</th>\n",
       "      <th>balance_after_trans</th>\n",
       "      <th>trans_type</th>\n",
       "      <th>trans_operation</th>\n",
       "      <th>trans_date</th>\n",
       "    </tr>\n",
       "  </thead>\n",
       "  <tbody>\n",
       "    <tr>\n",
       "      <th>0</th>\n",
       "      <td>0</td>\n",
       "      <td>700.0</td>\n",
       "      <td>700.0</td>\n",
       "      <td>0</td>\n",
       "      <td>0</td>\n",
       "      <td>0</td>\n",
       "    </tr>\n",
       "    <tr>\n",
       "      <th>1</th>\n",
       "      <td>1</td>\n",
       "      <td>900.0</td>\n",
       "      <td>900.0</td>\n",
       "      <td>0</td>\n",
       "      <td>0</td>\n",
       "      <td>0</td>\n",
       "    </tr>\n",
       "    <tr>\n",
       "      <th>2</th>\n",
       "      <td>2</td>\n",
       "      <td>1000.0</td>\n",
       "      <td>1000.0</td>\n",
       "      <td>0</td>\n",
       "      <td>0</td>\n",
       "      <td>0</td>\n",
       "    </tr>\n",
       "    <tr>\n",
       "      <th>3</th>\n",
       "      <td>3</td>\n",
       "      <td>600.0</td>\n",
       "      <td>600.0</td>\n",
       "      <td>0</td>\n",
       "      <td>0</td>\n",
       "      <td>0</td>\n",
       "    </tr>\n",
       "    <tr>\n",
       "      <th>4</th>\n",
       "      <td>4</td>\n",
       "      <td>400.0</td>\n",
       "      <td>400.0</td>\n",
       "      <td>0</td>\n",
       "      <td>0</td>\n",
       "      <td>1</td>\n",
       "    </tr>\n",
       "  </tbody>\n",
       "</table>\n",
       "</div>"
      ],
      "text/plain": [
       "   account_id  trans_amount  balance_after_trans  trans_type  trans_operation  \\\n",
       "0           0         700.0                700.0           0                0   \n",
       "1           1         900.0                900.0           0                0   \n",
       "2           2        1000.0               1000.0           0                0   \n",
       "3           3         600.0                600.0           0                0   \n",
       "4           4         400.0                400.0           0                0   \n",
       "\n",
       "   trans_date  \n",
       "0           0  \n",
       "1           0  \n",
       "2           0  \n",
       "3           0  \n",
       "4           1  "
      ]
     },
     "execution_count": 8,
     "metadata": {},
     "output_type": "execute_result"
    }
   ],
   "source": [
    "b = pd.read_csv('../data/berka/berka.csv', sep=';')\n",
    "b.head()"
   ]
  },
  {
   "cell_type": "code",
   "execution_count": 10,
   "metadata": {},
   "outputs": [
    {
     "name": "stdout",
     "output_type": "stream",
     "text": [
      "0 4499\n",
      "0.0 87400.0\n",
      "-41125.7 209637.0\n",
      "0 2\n",
      "0 5\n",
      "0 2190\n"
     ]
    }
   ],
   "source": [
    "for col in b._get_numeric_data().columns:\n",
    "    print(b[col].min(), b[col].max())"
   ]
  },
  {
   "cell_type": "code",
   "execution_count": 175,
   "metadata": {},
   "outputs": [],
   "source": [
    "import pickle\n",
    "subs = pickle.load(open('../data/berka/subs.pkl', 'rb'))"
   ]
  },
  {
   "cell_type": "code",
   "execution_count": 176,
   "metadata": {},
   "outputs": [
    {
     "data": {
      "text/plain": [
       "dict_keys(['trans_operation', 'account_id', 'trans_type'])"
      ]
     },
     "execution_count": 176,
     "metadata": {},
     "output_type": "execute_result"
    }
   ],
   "source": [
    "subs.keys()"
   ]
  },
  {
   "cell_type": "code",
   "execution_count": 5,
   "metadata": {},
   "outputs": [],
   "source": [
    "from sdgym.synthesizers.tgan import *\n",
    "from sdgym.synthesizers.tablegan import *\n",
    "from sdgym.synthesizers.medgan import *\n",
    "import pandas as pd\n",
    "import numpy as np\n",
    "import json\n",
    "from comet_ml import Experiment\n",
    "import configparser\n",
    "import argparse\n"
   ]
  },
  {
   "cell_type": "code",
   "execution_count": 5,
   "metadata": {},
   "outputs": [
    {
     "name": "stderr",
     "output_type": "stream",
     "text": [
      "COMET INFO: ----------------------------\n",
      "COMET INFO: Comet.ml Experiment Summary:\n",
      "COMET INFO:   Data:\n",
      "COMET INFO:     url: https://www.comet.ml/baukebrenninkmeijer/dsgym-tgan/b244957c645e4bbda31f8056e1bd9570\n",
      "COMET INFO:   Metrics [count] (min, max):\n",
      "COMET INFO:     Discriminator Loss [117]     : (0.2934846878051758, 1.5544346570968628)\n",
      "COMET INFO:     Generator Loss [117]         : (0.1598927080631256, 3.1020915508270264)\n",
      "COMET INFO:     loss [361]                   : (0.27679598331451416, 14.723712921142578)\n",
      "COMET INFO:     sys.gpu.0.free_memory [5]    : (9967960064.0, 10056040448.0)\n",
      "COMET INFO:     sys.gpu.0.gpu_utilization [5]: (80.0, 93.0)\n",
      "COMET INFO:     sys.gpu.0.total_memory       : (11996954624.0, 11996954624.0)\n",
      "COMET INFO:     sys.gpu.0.used_memory [5]    : (1940914176.0, 2028994560.0)\n",
      "COMET INFO: ----------------------------\n"
     ]
    },
    {
     "name": "stdout",
     "output_type": "stream",
     "text": [
      "\n",
      "Dataset: creditcard \n",
      "Epochs: 100\n",
      "\n"
     ]
    },
    {
     "name": "stderr",
     "output_type": "stream",
     "text": [
      "COMET INFO: old comet version (2.0.1) detected. current: 2.0.2 please update your comet lib with command: `pip install --no-cache-dir --upgrade comet_ml`\n",
      "COMET INFO: Experiment is live on comet.ml https://www.comet.ml/baukebrenninkmeijer/dsgym-tgan/e9c1bc62b0c0439b900efacb764d1f85\n",
      "\n"
     ]
    },
    {
     "name": "stdout",
     "output_type": "stream",
     "text": [
      "Training tablegan\n",
      "epoch 1 step 10 tensor(0.6284, device='cuda:0', grad_fn=<SubBackward0>) tensor(1.2242, device='cuda:0', grad_fn=<NegBackward>) None\n",
      "epoch 1 step 20 tensor(0.3757, device='cuda:0', grad_fn=<SubBackward0>) tensor(1.8269, device='cuda:0', grad_fn=<NegBackward>) None\n",
      "epoch 1 step 30 tensor(0.2379, device='cuda:0', grad_fn=<SubBackward0>) tensor(2.3447, device='cuda:0', grad_fn=<NegBackward>) None\n",
      "epoch 1 step 40 tensor(0.2755, device='cuda:0', grad_fn=<SubBackward0>) tensor(2.2180, device='cuda:0', grad_fn=<NegBackward>) None\n",
      "epoch 1 step 50 tensor(0.5719, device='cuda:0', grad_fn=<SubBackward0>) tensor(1.6203, device='cuda:0', grad_fn=<NegBackward>) None\n",
      "epoch 1 step 60 tensor(0.5222, device='cuda:0', grad_fn=<SubBackward0>) tensor(1.6409, device='cuda:0', grad_fn=<NegBackward>) None\n",
      "epoch 1 step 70 tensor(0.4664, device='cuda:0', grad_fn=<SubBackward0>) tensor(1.5840, device='cuda:0', grad_fn=<NegBackward>) None\n",
      "epoch 1 step 80 tensor(0.4760, device='cuda:0', grad_fn=<SubBackward0>) tensor(2.0233, device='cuda:0', grad_fn=<NegBackward>) None\n",
      "epoch 1 step 90 tensor(0.3779, device='cuda:0', grad_fn=<SubBackward0>) tensor(1.9898, device='cuda:0', grad_fn=<NegBackward>) None\n",
      "epoch 1 step 100 tensor(0.4069, device='cuda:0', grad_fn=<SubBackward0>) tensor(1.6029, device='cuda:0', grad_fn=<NegBackward>) None\n",
      "epoch 1 step 110 tensor(0.4422, device='cuda:0', grad_fn=<SubBackward0>) tensor(1.9764, device='cuda:0', grad_fn=<NegBackward>) None\n",
      "epoch 1 step 120 tensor(0.4419, device='cuda:0', grad_fn=<SubBackward0>) tensor(2.2558, device='cuda:0', grad_fn=<NegBackward>) None\n",
      "epoch 1 step 130 tensor(0.6053, device='cuda:0', grad_fn=<SubBackward0>) tensor(3.1657, device='cuda:0', grad_fn=<NegBackward>) None\n",
      "epoch 1 step 140 tensor(0.3936, device='cuda:0', grad_fn=<SubBackward0>) tensor(2.1487, device='cuda:0', grad_fn=<NegBackward>) None\n",
      "epoch 1 step 150 tensor(0.3842, device='cuda:0', grad_fn=<SubBackward0>) tensor(1.8386, device='cuda:0', grad_fn=<NegBackward>) None\n",
      "epoch 1 step 160 tensor(0.4510, device='cuda:0', grad_fn=<SubBackward0>) tensor(2.4159, device='cuda:0', grad_fn=<NegBackward>) None\n",
      "epoch 1 step 170 tensor(0.5001, device='cuda:0', grad_fn=<SubBackward0>) tensor(1.3083, device='cuda:0', grad_fn=<NegBackward>) None\n",
      "epoch 1 step 180 tensor(0.4839, device='cuda:0', grad_fn=<SubBackward0>) tensor(1.4154, device='cuda:0', grad_fn=<NegBackward>) None\n",
      "epoch 1 step 190 tensor(1.2970, device='cuda:0', grad_fn=<SubBackward0>) tensor(1.8611, device='cuda:0', grad_fn=<NegBackward>) None\n",
      "epoch 1 step 200 tensor(0.6080, device='cuda:0', grad_fn=<SubBackward0>) tensor(2.3450, device='cuda:0', grad_fn=<NegBackward>) None\n",
      "epoch 1 step 210 tensor(0.7261, device='cuda:0', grad_fn=<SubBackward0>) tensor(1.5812, device='cuda:0', grad_fn=<NegBackward>) None\n",
      "epoch 1 step 220 tensor(0.7110, device='cuda:0', grad_fn=<SubBackward0>) tensor(2.3452, device='cuda:0', grad_fn=<NegBackward>) None\n",
      "epoch 1 step 230 tensor(1.2135, device='cuda:0', grad_fn=<SubBackward0>) tensor(2.3811, device='cuda:0', grad_fn=<NegBackward>) None\n",
      "epoch 1 step 240 tensor(0.6477, device='cuda:0', grad_fn=<SubBackward0>) tensor(1.2521, device='cuda:0', grad_fn=<NegBackward>) None\n",
      "epoch 1 step 250 tensor(0.8325, device='cuda:0', grad_fn=<SubBackward0>) tensor(0.9895, device='cuda:0', grad_fn=<NegBackward>) None\n",
      "epoch 1 step 260 tensor(0.7306, device='cuda:0', grad_fn=<SubBackward0>) tensor(2.3833, device='cuda:0', grad_fn=<NegBackward>) None\n",
      "epoch 1 step 270 tensor(0.9534, device='cuda:0', grad_fn=<SubBackward0>) tensor(0.1899, device='cuda:0', grad_fn=<NegBackward>) None\n",
      "epoch 1 step 280 tensor(0.6835, device='cuda:0', grad_fn=<SubBackward0>) tensor(1.1314, device='cuda:0', grad_fn=<NegBackward>) None\n",
      "epoch 1 step 290 tensor(0.6542, device='cuda:0', grad_fn=<SubBackward0>) tensor(1.5722, device='cuda:0', grad_fn=<NegBackward>) None\n",
      "epoch 1 step 300 tensor(0.9253, device='cuda:0', grad_fn=<SubBackward0>) tensor(0.3267, device='cuda:0', grad_fn=<NegBackward>) None\n",
      "epoch 1 step 310 tensor(0.8767, device='cuda:0', grad_fn=<SubBackward0>) tensor(0.6725, device='cuda:0', grad_fn=<NegBackward>) None\n",
      "epoch 1 step 320 tensor(0.7001, device='cuda:0', grad_fn=<SubBackward0>) tensor(1.6201, device='cuda:0', grad_fn=<NegBackward>) None\n",
      "epoch 1 step 330 tensor(0.8284, device='cuda:0', grad_fn=<SubBackward0>) tensor(1.1977, device='cuda:0', grad_fn=<NegBackward>) None\n",
      "epoch 1 step 340 tensor(0.9651, device='cuda:0', grad_fn=<SubBackward0>) tensor(0.9551, device='cuda:0', grad_fn=<NegBackward>) None\n",
      "epoch 1 step 350 tensor(1.0370, device='cuda:0', grad_fn=<SubBackward0>) tensor(2.3721, device='cuda:0', grad_fn=<NegBackward>) None\n",
      "epoch 1 step 360 tensor(1.5858, device='cuda:0', grad_fn=<SubBackward0>) tensor(0.9165, device='cuda:0', grad_fn=<NegBackward>) None\n",
      "epoch 1 step 370 tensor(0.8382, device='cuda:0', grad_fn=<SubBackward0>) tensor(1.0954, device='cuda:0', grad_fn=<NegBackward>) None\n",
      "epoch 1 step 380 tensor(0.7371, device='cuda:0', grad_fn=<SubBackward0>) tensor(1.0899, device='cuda:0', grad_fn=<NegBackward>) None\n",
      "epoch 1 step 390 tensor(0.7886, device='cuda:0', grad_fn=<SubBackward0>) tensor(2.1837, device='cuda:0', grad_fn=<NegBackward>) None\n",
      "epoch 1 step 400 tensor(0.8034, device='cuda:0', grad_fn=<SubBackward0>) tensor(1.9187, device='cuda:0', grad_fn=<NegBackward>) None\n",
      "epoch 1 step 410 tensor(0.8496, device='cuda:0', grad_fn=<SubBackward0>) tensor(0.4250, device='cuda:0', grad_fn=<NegBackward>) None\n",
      "epoch 1 step 420 tensor(1.5789, device='cuda:0', grad_fn=<SubBackward0>) tensor(0.8014, device='cuda:0', grad_fn=<NegBackward>) None\n",
      "epoch 1 step 430 tensor(0.5829, device='cuda:0', grad_fn=<SubBackward0>) tensor(2.5439, device='cuda:0', grad_fn=<NegBackward>) None\n",
      "epoch 1 step 440 tensor(0.9324, device='cuda:0', grad_fn=<SubBackward0>) tensor(1.9107, device='cuda:0', grad_fn=<NegBackward>) None\n",
      "epoch 1 step 450 tensor(1.5543, device='cuda:0', grad_fn=<SubBackward0>) tensor(1.5647, device='cuda:0', grad_fn=<NegBackward>) None\n",
      "epoch 1 step 460 tensor(0.7334, device='cuda:0', grad_fn=<SubBackward0>) tensor(1.4732, device='cuda:0', grad_fn=<NegBackward>) None\n",
      "epoch 1 step 470 tensor(1.0177, device='cuda:0', grad_fn=<SubBackward0>) tensor(0.9574, device='cuda:0', grad_fn=<NegBackward>) None\n",
      "epoch 1 step 480 tensor(1.1881, device='cuda:0', grad_fn=<SubBackward0>) tensor(0.3395, device='cuda:0', grad_fn=<NegBackward>) None\n",
      "epoch 1 step 490 tensor(0.8139, device='cuda:0', grad_fn=<SubBackward0>) tensor(1.2584, device='cuda:0', grad_fn=<NegBackward>) None\n",
      "epoch 1 step 500 tensor(1.0209, device='cuda:0', grad_fn=<SubBackward0>) tensor(1.6433, device='cuda:0', grad_fn=<NegBackward>) None\n",
      "epoch 1 step 510 tensor(1.6103, device='cuda:0', grad_fn=<SubBackward0>) tensor(1.9300, device='cuda:0', grad_fn=<NegBackward>) None\n",
      "epoch 1 step 520 tensor(1.3283, device='cuda:0', grad_fn=<SubBackward0>) tensor(0.7496, device='cuda:0', grad_fn=<NegBackward>) None\n",
      "epoch 1 step 530 tensor(0.9280, device='cuda:0', grad_fn=<SubBackward0>) tensor(0.4159, device='cuda:0', grad_fn=<NegBackward>) None\n",
      "epoch 1 step 540 tensor(0.9672, device='cuda:0', grad_fn=<SubBackward0>) tensor(1.8185, device='cuda:0', grad_fn=<NegBackward>) None\n",
      "epoch 1 step 550 tensor(1.5604, device='cuda:0', grad_fn=<SubBackward0>) tensor(0.8956, device='cuda:0', grad_fn=<NegBackward>) None\n",
      "epoch 1 step 560 tensor(0.7462, device='cuda:0', grad_fn=<SubBackward0>) tensor(0.9065, device='cuda:0', grad_fn=<NegBackward>) None\n",
      "0 1 [1, 11, 21, 31, 41, 51, 61, 71, 81, 91]\n",
      "Saving weights\n",
      "epoch 2 step 10 tensor(0.6520, device='cuda:0', grad_fn=<SubBackward0>) tensor(1.6200, device='cuda:0', grad_fn=<NegBackward>) None\n",
      "epoch 2 step 20 tensor(0.8791, device='cuda:0', grad_fn=<SubBackward0>) tensor(0.7339, device='cuda:0', grad_fn=<NegBackward>) None\n",
      "epoch 2 step 30 tensor(1.3514, device='cuda:0', grad_fn=<SubBackward0>) tensor(2.1801, device='cuda:0', grad_fn=<NegBackward>) None\n",
      "epoch 2 step 40 tensor(0.8619, device='cuda:0', grad_fn=<SubBackward0>) tensor(0.8801, device='cuda:0', grad_fn=<NegBackward>) None\n",
      "epoch 2 step 50 tensor(1.0185, device='cuda:0', grad_fn=<SubBackward0>) tensor(0.9409, device='cuda:0', grad_fn=<NegBackward>) None\n",
      "epoch 2 step 60 tensor(1.2710, device='cuda:0', grad_fn=<SubBackward0>) tensor(1.4674, device='cuda:0', grad_fn=<NegBackward>) None\n",
      "epoch 2 step 70 tensor(1.0214, device='cuda:0', grad_fn=<SubBackward0>) tensor(0.4720, device='cuda:0', grad_fn=<NegBackward>) None\n"
     ]
    },
    {
     "ename": "KeyboardInterrupt",
     "evalue": "",
     "output_type": "error",
     "traceback": [
      "\u001b[0;31m---------------------------------------------------------------------------\u001b[0m",
      "\u001b[0;31mKeyboardInterrupt\u001b[0m                         Traceback (most recent call last)",
      "\u001b[0;32m<ipython-input-5-f2ec53f02ca7>\u001b[0m in \u001b[0;36m<module>\u001b[0;34m\u001b[0m\n\u001b[1;32m     40\u001b[0m \u001b[0;34m\u001b[0m\u001b[0m\n\u001b[1;32m     41\u001b[0m     \u001b[0mprint\u001b[0m\u001b[0;34m(\u001b[0m\u001b[0;34mf'Training {synth_name}'\u001b[0m\u001b[0;34m)\u001b[0m\u001b[0;34m\u001b[0m\u001b[0;34m\u001b[0m\u001b[0m\n\u001b[0;32m---> 42\u001b[0;31m     \u001b[0msynthesizer\u001b[0m\u001b[0;34m.\u001b[0m\u001b[0mtrain\u001b[0m\u001b[0;34m(\u001b[0m\u001b[0mdata\u001b[0m\u001b[0;34m.\u001b[0m\u001b[0mvalues\u001b[0m\u001b[0;34m,\u001b[0m \u001b[0mexperiment\u001b[0m\u001b[0;34m=\u001b[0m\u001b[0mexperiment\u001b[0m\u001b[0;34m)\u001b[0m\u001b[0;34m\u001b[0m\u001b[0;34m\u001b[0m\u001b[0m\n\u001b[0m\u001b[1;32m     43\u001b[0m \u001b[0;34m\u001b[0m\u001b[0m\n\u001b[1;32m     44\u001b[0m     \u001b[0mgenerated\u001b[0m \u001b[0;34m=\u001b[0m \u001b[0msynthesizer\u001b[0m\u001b[0;34m.\u001b[0m\u001b[0mgenerate\u001b[0m\u001b[0;34m(\u001b[0m\u001b[0mn\u001b[0m\u001b[0;34m)\u001b[0m\u001b[0;34m\u001b[0m\u001b[0;34m\u001b[0m\u001b[0m\n",
      "\u001b[0;32m~/SDGym/sdgym/synthesizers/tablegan.py\u001b[0m in \u001b[0;36mtrain\u001b[0;34m(self, train_data, experiment)\u001b[0m\n\u001b[1;32m    178\u001b[0m                 loss_d = (\n\u001b[1;32m    179\u001b[0m                     -(torch.log(y_real + 1e-4).mean()) - (torch.log(1. - y_fake + 1e-4).mean()))\n\u001b[0;32m--> 180\u001b[0;31m                 \u001b[0mloss_d\u001b[0m\u001b[0;34m.\u001b[0m\u001b[0mbackward\u001b[0m\u001b[0;34m(\u001b[0m\u001b[0;34m)\u001b[0m\u001b[0;34m\u001b[0m\u001b[0;34m\u001b[0m\u001b[0m\n\u001b[0m\u001b[1;32m    181\u001b[0m                 \u001b[0moptimizerD\u001b[0m\u001b[0;34m.\u001b[0m\u001b[0mstep\u001b[0m\u001b[0;34m(\u001b[0m\u001b[0;34m)\u001b[0m\u001b[0;34m\u001b[0m\u001b[0;34m\u001b[0m\u001b[0m\n\u001b[1;32m    182\u001b[0m \u001b[0;34m\u001b[0m\u001b[0m\n",
      "\u001b[0;32m~/anaconda3/envs/torch/lib/python3.6/site-packages/comet_ml/monkey_patching.py\u001b[0m in \u001b[0;36mwrapper\u001b[0;34m(*args, **kwargs)\u001b[0m\n\u001b[1;32m    250\u001b[0m             \u001b[0;32mfor\u001b[0m \u001b[0mcallback\u001b[0m \u001b[0;32min\u001b[0m \u001b[0mafter_callbacks\u001b[0m\u001b[0;34m:\u001b[0m\u001b[0;34m\u001b[0m\u001b[0;34m\u001b[0m\u001b[0m\n\u001b[1;32m    251\u001b[0m                 \u001b[0;32mtry\u001b[0m\u001b[0;34m:\u001b[0m\u001b[0;34m\u001b[0m\u001b[0;34m\u001b[0m\u001b[0m\n\u001b[0;32m--> 252\u001b[0;31m                     \u001b[0mcallback\u001b[0m\u001b[0;34m(\u001b[0m\u001b[0mexperiment\u001b[0m\u001b[0;34m,\u001b[0m \u001b[0moriginal\u001b[0m\u001b[0;34m,\u001b[0m \u001b[0mreturn_value\u001b[0m\u001b[0;34m,\u001b[0m \u001b[0;34m*\u001b[0m\u001b[0margs\u001b[0m\u001b[0;34m,\u001b[0m \u001b[0;34m**\u001b[0m\u001b[0mkwargs\u001b[0m\u001b[0;34m)\u001b[0m\u001b[0;34m\u001b[0m\u001b[0;34m\u001b[0m\u001b[0m\n\u001b[0m\u001b[1;32m    253\u001b[0m                 \u001b[0;32mexcept\u001b[0m \u001b[0mException\u001b[0m\u001b[0;34m:\u001b[0m\u001b[0;34m\u001b[0m\u001b[0;34m\u001b[0m\u001b[0m\n\u001b[1;32m    254\u001b[0m                     LOGGER.debug(\n",
      "\u001b[0;32m~/anaconda3/envs/torch/lib/python3.6/site-packages/comet_ml/pytorch_logger.py\u001b[0m in \u001b[0;36mtensor_backward\u001b[0;34m(experiment, original, result, *args, **kwargs)\u001b[0m\n\u001b[1;32m     37\u001b[0m                 \u001b[0;32mif\u001b[0m \u001b[0mlen\u001b[0m\u001b[0;34m(\u001b[0m\u001b[0mloss\u001b[0m\u001b[0;34m.\u001b[0m\u001b[0mdata\u001b[0m\u001b[0;34m.\u001b[0m\u001b[0mshape\u001b[0m\u001b[0;34m)\u001b[0m \u001b[0;34m==\u001b[0m \u001b[0;36m0\u001b[0m\u001b[0;34m:\u001b[0m\u001b[0;34m\u001b[0m\u001b[0;34m\u001b[0m\u001b[0m\n\u001b[1;32m     38\u001b[0m                     experiment.log_metric(\n\u001b[0;32m---> 39\u001b[0;31m                         \u001b[0;34m\"loss\"\u001b[0m\u001b[0;34m,\u001b[0m \u001b[0mloss\u001b[0m\u001b[0;34m.\u001b[0m\u001b[0mdata\u001b[0m\u001b[0;34m.\u001b[0m\u001b[0mitem\u001b[0m\u001b[0;34m(\u001b[0m\u001b[0;34m)\u001b[0m\u001b[0;34m,\u001b[0m \u001b[0mstep\u001b[0m\u001b[0;34m=\u001b[0m\u001b[0mexperiment\u001b[0m\u001b[0;34m.\u001b[0m\u001b[0mcurr_step\u001b[0m\u001b[0;34m\u001b[0m\u001b[0;34m\u001b[0m\u001b[0m\n\u001b[0m\u001b[1;32m     40\u001b[0m                     )\n\u001b[1;32m     41\u001b[0m                 \u001b[0;32melse\u001b[0m\u001b[0;34m:\u001b[0m\u001b[0;34m\u001b[0m\u001b[0;34m\u001b[0m\u001b[0m\n",
      "\u001b[0;31mKeyboardInterrupt\u001b[0m: "
     ]
    }
   ],
   "source": [
    "# parser = argparse.ArgumentParser(description='Evaluate data synthesizers')\n",
    "# parser.add_argument('--dataset', type=str, help='Which dataset to choose. Options are berka, creditcard and ticket')\n",
    "# parser.add_argument('--synthesizers', nargs='*', help='Which synthesizers/generators to use.', default=['tablegan', 'tgan', 'medgan'])\n",
    "\n",
    "# args = parser.parse_args()\n",
    "# dataset = args.dataset\n",
    "# arg_synths = args.synthesizers\n",
    "\n",
    "dataset = 'creditcard'\n",
    "arg_synths = ['tablegan']\n",
    "\n",
    "config = configparser.ConfigParser()\n",
    "config.read('config.ini')\n",
    "\n",
    "output = 'samples/test'\n",
    "working_dir = \"{}/ckpt_{}\".format(output, dataset)\n",
    "epochs = 100\n",
    "n = 100000\n",
    "project_name = \"dsgym-tgan\"\n",
    "\n",
    "data = pd.read_csv(f'../data/{dataset}/{dataset}_sdgym.csv')\n",
    "meta = json.load(open(f'data/real/{dataset}.json', 'r'))\n",
    "\n",
    "print(f'\\nDataset: {dataset} \\nEpochs: {epochs}\\n')\n",
    "\n",
    "synthesizers = dict()\n",
    "if 'tablegan' in arg_synths:\n",
    "    synthesizers['tablegan'] = TableganSynthesizer(store_epoch=list(range(1, epochs, 10)))\n",
    "if 'tgan' in arg_synths:\n",
    "    synthesizers['tgan'] = TGANSynthesizer(store_epoch=[50, epochs])\n",
    "if 'medgan' in arg_synths:\n",
    "    synthesizers['medgan'] = MedganSynthesizer(store_epoch=list(range(epochs)), pretrain_epoch=50)\n",
    "\n",
    "for synth_name, synthesizer in synthesizers.items():\n",
    "    synthesizer.init(meta, working_dir)\n",
    "\n",
    "    experiment = Experiment(api_key=config['comet_ml']['api_key'],\n",
    "                            project_name=project_name, workspace=\"baukebrenninkmeijer\")\n",
    "    experiment.log_parameter('dataset', dataset)\n",
    "\n",
    "    print(f'Training {synth_name}')\n",
    "    synthesizer.train(data.values, experiment=experiment)\n",
    "\n",
    "    generated = synthesizer.generate(n)\n",
    "\n",
    "    z = pd.DataFrame(generated[0][1])\n",
    "    z.columns = data.columns\n",
    "    data_path = f'generated_data/{dataset}/{synth_name}'\n",
    "    if not os.path.exists(data_path):\n",
    "        os.mkdir(data_path)\n",
    "    z.to_csv(f'{data_path}/sample_{dataset}_{epochs}.csv', index=False)\n",
    "    experiment.end()\n",
    "    print('Done.')"
   ]
  },
  {
   "cell_type": "code",
   "execution_count": null,
   "metadata": {},
   "outputs": [],
   "source": []
  }
 ],
 "metadata": {
  "kernelspec": {
   "display_name": "torch (3.6.7)",
   "language": "python",
   "name": "torch"
  },
  "language_info": {
   "codemirror_mode": {
    "name": "ipython",
    "version": 3
   },
   "file_extension": ".py",
   "mimetype": "text/x-python",
   "name": "python",
   "nbconvert_exporter": "python",
   "pygments_lexer": "ipython3",
   "version": "3.6.7"
  }
 },
 "nbformat": 4,
 "nbformat_minor": 2
}
